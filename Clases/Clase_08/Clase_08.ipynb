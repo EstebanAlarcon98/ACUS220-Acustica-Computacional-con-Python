{
 "cells": [
  {
   "cell_type": "code",
   "execution_count": 1,
   "metadata": {
    "ExecuteTime": {
     "end_time": "2020-12-01T13:53:10.862546Z",
     "start_time": "2020-12-01T13:53:10.822792Z"
    }
   },
   "outputs": [
    {
     "data": {
      "text/html": [
       "<!-- Mejorar visualización en proyector -->\n",
       "<style>\n",
       ".rendered_html {font-size: 1.2em; line-height: 150%;}\n",
       "div.prompt {min-width: 0ex; }\n",
       ".container {width:95% !important;}\n",
       "</style>\n"
      ],
      "text/plain": [
       "<IPython.core.display.HTML object>"
      ]
     },
     "metadata": {},
     "output_type": "display_data"
    }
   ],
   "source": [
    "%%HTML\n",
    "<!-- Mejorar visualización en proyector -->\n",
    "<style>\n",
    ".rendered_html {font-size: 1.2em; line-height: 150%;}\n",
    "div.prompt {min-width: 0ex; }\n",
    ".container {width:95% !important;}\n",
    "</style>"
   ]
  },
  {
   "cell_type": "markdown",
   "metadata": {},
   "source": [
    "<h1 style=\"text-align:center\">Semana 9. Clase 8: Acústica en Python</h1>\n",
    "<h3 style=\"text-align:center\">ACUS220: Acústica computacional con Python</h3>\n",
    "<p style=\"text-align:center\">Dr. Víctor Poblete <br>\n",
    "<a href=\"mailto:vpoblete@uach.cl\">vpoblete@uach.cl</a><br>\n",
    "<a href=\"https://github.com/vpobleteacustica/ACUS220-Acustica-Computacional-con-Python\">https://github.com/vpobleteacustica/ACUS220-Acustica-Computacional-con-Python</a><br> \n",
    "<p style=\"text-align:center\">Diego Espejo Alquinta - Ayudante <br>\n",
    "<a href=\"mailto:diego.espejo@alumnos.uach.cl\">diego.espejo@alumnos.uach.cl </a><br>\n",
    "<a href=\"http://www.acusticauach.cl\">www.acusticauach.cl</a><br> "
   ]
  },
  {
   "cell_type": "markdown",
   "metadata": {},
   "source": [
    "# Introducción\n",
    "\n",
    "+ El método de integración hacia atrás de Schroeder es el método más utilizado para extraer la curva de caída de una respuesta de impulso acústico y calcular el tiempo de reverberación a partir de esta curva.\n",
    "+ Ocuparemos este metodo para estimar los tiempos de reverberación de 3 salas, en particular, Aula Magna UACh, Catedral de Valdivia y Camara reverberante del Instituto de Acústica UACh, a partir de de las respuestas impulso obtenidas en cada una de ellas.  \n",
    "+ Se espera que los estudiantes formulen un reporte en ambiente notebook, que respalde el código mediante los fundamentos acústicos relacionados.\n",
    "\n",
    "[Apuntes Acústica arquitectonica.](https://www.dropbox.com/sh/xsvyk8rklar00ov/AADTGzrXSyUR0OJWW9swDgOia?dl=0)\n",
    "        \n",
    "        Si poseen una respuesta impulso de otra sala, entonces usarla para estimar su tiempo de reverberacion mediante este método."
   ]
  },
  {
   "cell_type": "code",
   "execution_count": 2,
   "metadata": {
    "ExecuteTime": {
     "end_time": "2020-12-01T13:53:52.478758Z",
     "start_time": "2020-12-01T13:53:17.023663Z"
    }
   },
   "outputs": [],
   "source": [
    "import numpy as np\n",
    "import librosa as lib\n",
    "import pandas as pd\n",
    "%matplotlib notebook\n",
    "import matplotlib.pyplot as plt\n",
    "from scipy.signal import lfilter,butter"
   ]
  },
  {
   "cell_type": "code",
   "execution_count": 3,
   "metadata": {
    "ExecuteTime": {
     "end_time": "2020-12-01T13:54:28.643861Z",
     "start_time": "2020-12-01T13:54:28.611068Z"
    }
   },
   "outputs": [],
   "source": [
    "signals = ['AulaMagna_Impulso','Catedral_Impulso','Reverberante']\n",
    "df = pd.DataFrame()"
   ]
  },
  {
   "cell_type": "code",
   "execution_count": 4,
   "metadata": {
    "ExecuteTime": {
     "end_time": "2020-12-01T13:56:14.872481Z",
     "start_time": "2020-12-01T13:56:14.625865Z"
    }
   },
   "outputs": [],
   "source": [
    "l=0\n",
    "for s in signals:\n",
    "    sig ,fs = lib.load(s+'.wav',sr=44100)\n",
    "    if len(sig)<l:\n",
    "        cola = np.zeros((l-len(sig)))\n",
    "        sig = np.concatenate((sig,cola))\n",
    "    else:\n",
    "        l=len(sig)\n",
    "    df[s]=sig   "
   ]
  },
  {
   "cell_type": "code",
   "execution_count": 5,
   "metadata": {
    "ExecuteTime": {
     "end_time": "2020-12-01T13:56:18.699264Z",
     "start_time": "2020-12-01T13:56:18.488654Z"
    },
    "scrolled": true
   },
   "outputs": [
    {
     "data": {
      "text/html": [
       "<div>\n",
       "<style scoped>\n",
       "    .dataframe tbody tr th:only-of-type {\n",
       "        vertical-align: middle;\n",
       "    }\n",
       "\n",
       "    .dataframe tbody tr th {\n",
       "        vertical-align: top;\n",
       "    }\n",
       "\n",
       "    .dataframe thead th {\n",
       "        text-align: right;\n",
       "    }\n",
       "</style>\n",
       "<table border=\"1\" class=\"dataframe\">\n",
       "  <thead>\n",
       "    <tr style=\"text-align: right;\">\n",
       "      <th></th>\n",
       "      <th>AulaMagna_Impulso</th>\n",
       "      <th>Catedral_Impulso</th>\n",
       "      <th>Reverberante</th>\n",
       "    </tr>\n",
       "  </thead>\n",
       "  <tbody>\n",
       "    <tr>\n",
       "      <th>0</th>\n",
       "      <td>-0.000031</td>\n",
       "      <td>-0.000061</td>\n",
       "      <td>-0.000122</td>\n",
       "    </tr>\n",
       "    <tr>\n",
       "      <th>1</th>\n",
       "      <td>0.000031</td>\n",
       "      <td>-0.000031</td>\n",
       "      <td>0.000244</td>\n",
       "    </tr>\n",
       "    <tr>\n",
       "      <th>2</th>\n",
       "      <td>0.000000</td>\n",
       "      <td>-0.000122</td>\n",
       "      <td>0.000305</td>\n",
       "    </tr>\n",
       "    <tr>\n",
       "      <th>3</th>\n",
       "      <td>0.000061</td>\n",
       "      <td>0.000061</td>\n",
       "      <td>-0.000031</td>\n",
       "    </tr>\n",
       "    <tr>\n",
       "      <th>4</th>\n",
       "      <td>-0.000031</td>\n",
       "      <td>-0.000153</td>\n",
       "      <td>0.000061</td>\n",
       "    </tr>\n",
       "    <tr>\n",
       "      <th>...</th>\n",
       "      <td>...</td>\n",
       "      <td>...</td>\n",
       "      <td>...</td>\n",
       "    </tr>\n",
       "    <tr>\n",
       "      <th>190459</th>\n",
       "      <td>0.000031</td>\n",
       "      <td>0.000000</td>\n",
       "      <td>0.000000</td>\n",
       "    </tr>\n",
       "    <tr>\n",
       "      <th>190460</th>\n",
       "      <td>0.000122</td>\n",
       "      <td>0.000000</td>\n",
       "      <td>0.000000</td>\n",
       "    </tr>\n",
       "    <tr>\n",
       "      <th>190461</th>\n",
       "      <td>0.000031</td>\n",
       "      <td>0.000000</td>\n",
       "      <td>0.000000</td>\n",
       "    </tr>\n",
       "    <tr>\n",
       "      <th>190462</th>\n",
       "      <td>0.000214</td>\n",
       "      <td>0.000000</td>\n",
       "      <td>0.000000</td>\n",
       "    </tr>\n",
       "    <tr>\n",
       "      <th>190463</th>\n",
       "      <td>-0.000061</td>\n",
       "      <td>0.000000</td>\n",
       "      <td>0.000000</td>\n",
       "    </tr>\n",
       "  </tbody>\n",
       "</table>\n",
       "<p>190464 rows × 3 columns</p>\n",
       "</div>"
      ],
      "text/plain": [
       "        AulaMagna_Impulso  Catedral_Impulso  Reverberante\n",
       "0               -0.000031         -0.000061     -0.000122\n",
       "1                0.000031         -0.000031      0.000244\n",
       "2                0.000000         -0.000122      0.000305\n",
       "3                0.000061          0.000061     -0.000031\n",
       "4               -0.000031         -0.000153      0.000061\n",
       "...                   ...               ...           ...\n",
       "190459           0.000031          0.000000      0.000000\n",
       "190460           0.000122          0.000000      0.000000\n",
       "190461           0.000031          0.000000      0.000000\n",
       "190462           0.000214          0.000000      0.000000\n",
       "190463          -0.000061          0.000000      0.000000\n",
       "\n",
       "[190464 rows x 3 columns]"
      ]
     },
     "execution_count": 5,
     "metadata": {},
     "output_type": "execute_result"
    }
   ],
   "source": [
    "df"
   ]
  },
  {
   "cell_type": "code",
   "execution_count": 6,
   "metadata": {
    "ExecuteTime": {
     "end_time": "2020-12-01T14:09:52.841683Z",
     "start_time": "2020-12-01T14:09:52.810416Z"
    }
   },
   "outputs": [
    {
     "name": "stdout",
     "output_type": "stream",
     "text": [
      "0        -0.000031\n",
      "1         0.000031\n",
      "2         0.000000\n",
      "3         0.000061\n",
      "4        -0.000031\n",
      "            ...   \n",
      "190459    0.000031\n",
      "190460    0.000122\n",
      "190461    0.000031\n",
      "190462    0.000214\n",
      "190463   -0.000061\n",
      "Name: AulaMagna_Impulso, Length: 190464, dtype: float32\n"
     ]
    }
   ],
   "source": [
    "print(df[signals[0]])"
   ]
  },
  {
   "cell_type": "code",
   "execution_count": 7,
   "metadata": {
    "ExecuteTime": {
     "end_time": "2020-12-01T14:10:54.253207Z",
     "start_time": "2020-12-01T14:10:54.230173Z"
    }
   },
   "outputs": [
    {
     "name": "stdout",
     "output_type": "stream",
     "text": [
      "0        -0.000031\n",
      "1         0.000031\n",
      "2         0.000000\n",
      "3         0.000061\n",
      "4        -0.000031\n",
      "            ...   \n",
      "190459    0.000031\n",
      "190460    0.000122\n",
      "190461    0.000031\n",
      "190462    0.000214\n",
      "190463   -0.000061\n",
      "Name: AulaMagna_Impulso, Length: 190464, dtype: float32\n"
     ]
    }
   ],
   "source": [
    "print(df['AulaMagna_Impulso'])"
   ]
  },
  {
   "cell_type": "code",
   "execution_count": null,
   "metadata": {
    "ExecuteTime": {
     "end_time": "2020-11-23T14:35:05.646587Z",
     "start_time": "2020-11-23T14:35:05.356130Z"
    }
   },
   "outputs": [],
   "source": [
    "po      = 2e-5\n",
    "Low_Freq=125\n",
    "T = 1/fs\n",
    "Winlength = fs/Low_Freq\n",
    "L=l-Winlength\n",
    "t = np.linspace(1,L,int(L))*T   \n",
    "Prms = np.zeros((len(signals),int(L)))\n",
    "level = np.zeros((len(signals),int(L)))\n",
    "for i in range(len(signals)):\n",
    "    sig = df[signals[i]]\n",
    "    Prms[i,:]=np.sqrt((1/l)*(sum(sig**2))) \n",
    "    Prms[i,:]=Prms[i,:]/max(Prms[i,:])\n",
    "    level[i,:]=20*np.log10(Prms[i,:]/po)"
   ]
  },
  {
   "cell_type": "markdown",
   "metadata": {},
   "source": [
    "\\begin{align}\n",
    "    P_{rms} = \\sqrt{\\frac{1}{l}\\times\\sum_{i=0}^{l-1}sig_{i}^{2}} \\\\\n",
    "    \\\\\n",
    "    P_{rms_{N}} = \\frac{P_{rms}}{\\max {P_{rms}}} \\\\\n",
    "    \\\\\n",
    "    L_{rms_{N}} = 20\\times \\log_{10}\\left(\\frac{P_{RMS_{N}}}{P_{0}}\\right)\n",
    "\\end{align}"
   ]
  },
  {
   "cell_type": "code",
   "execution_count": 8,
   "metadata": {
    "ExecuteTime": {
     "end_time": "2020-12-01T14:27:40.324445Z",
     "start_time": "2020-12-01T14:27:40.267694Z"
    }
   },
   "outputs": [],
   "source": [
    "def octfilt(sig,fs,l,N=3):\n",
    "\n",
    "    Fc=[125,250,500,1000,2000,4000]\n",
    "    B=np.zeros((len(Fc),7))\n",
    "    A=np.zeros((len(Fc),7))\n",
    "    Y=np.zeros((len(Fc),l))\n",
    "    for i in range(len(Fc)):\n",
    "        B[i],A[i]=oct3dsgn(Fc[i],fs,N)\n",
    "        Y[i]=lfilter(B[i],A[i],sig)\n",
    "\n",
    "    return Y\n",
    "\n",
    "def oct3dsgn(Fc,fs,N):\n",
    "\n",
    "    if (Fc > 0.88*(fs/2)):\n",
    "        raise ValueError('Design not posible. Check frecuencies.')\n",
    "    \n",
    "    f1=Fc/np.sqrt(2)\n",
    "    f2=Fc*np.sqrt(2)\n",
    "    Qr =Fc/(f2-f1)\n",
    "    Qd = (np.pi/2/N)/(np.sin(np.pi/2/N))*Qr\n",
    "    alpha =(1+np.sqrt(1+4*Qd**2))/2/Qd\n",
    "    W1 = Fc/(fs/2)/alpha\n",
    "    W2 = Fc/(fs/2)*alpha\n",
    "    B,A = butter(N,[W1,W2],btype='band')\n",
    "    return B,A "
   ]
  },
  {
   "cell_type": "code",
   "execution_count": 9,
   "metadata": {
    "ExecuteTime": {
     "end_time": "2020-12-01T14:27:41.586684Z",
     "start_time": "2020-12-01T14:27:41.192823Z"
    }
   },
   "outputs": [],
   "source": [
    "Y1=octfilt(df[signals[0]].values,fs,l)\n",
    "Y2=octfilt(df[signals[1]].values,fs,l)\n",
    "Y3=octfilt(df[signals[2]].values,fs,l)"
   ]
  },
  {
   "cell_type": "code",
   "execution_count": 10,
   "metadata": {
    "ExecuteTime": {
     "end_time": "2020-12-01T14:27:51.913708Z",
     "start_time": "2020-12-01T14:27:51.837062Z"
    }
   },
   "outputs": [],
   "source": [
    "def RT_schroeder(h,fs,region=[-5,-35],method=1,delay_comp=0):\n",
    "\n",
    "    h_len=len(h)\n",
    "\n",
    "    if delay_comp==1:\n",
    "        i = where_is_max(h)\n",
    "        h[0:h_len-i]=h[i-1:h_len-1]\n",
    "        h_len =len(h)\n",
    "    \n",
    "    ## Energy decay curve\n",
    "\n",
    "    h_sq = h**2\n",
    "    h_sq = h_sq[::-1]\n",
    "    EDC = np.cumsum(h_sq)\n",
    "    EDC = EDC[::-1]\n",
    "\n",
    "    ### normalize\n",
    "\n",
    "    EDC_norm = EDC/max(EDC)\n",
    "\n",
    "    ## Estimate the reverberation time\n",
    "\n",
    "    if method == 1: #least square fitting\n",
    "        #first value of the EDC decaying 60 dB (e-6)\n",
    "        EDC_log = 10*np.log10(EDC_norm)\n",
    "        EDC_reg1 = find_first(EDC_log,region[0])\n",
    "        EDC_reg2 = find_first(EDC_log,region[1])\n",
    "        \n",
    "        EDC_reg12 = EDC_log[EDC_reg1:EDC_reg2]\n",
    "        x = np.linspace(1,len(EDC_reg12),len(EDC_reg12))\n",
    "\n",
    "        p = np.polyfit(x,EDC_reg12,deg=1)\n",
    "\n",
    "        y = p[0]*x+p[1]\n",
    "        y0 = y[0]-p[0]*EDC_reg1\n",
    "\n",
    "        #intersection of polifit line with -60 dB\n",
    "        x_rt = (-60-y0)/p[0]\n",
    "\n",
    "        RT = x_rt/fs #reverberation time in [s]\n",
    "\n",
    "        # fitting line from 0 to -60dB\n",
    "\n",
    "        x = np.linspace(1,x_rt,int(x_rt))\n",
    "        y = p[0]*x+y0\n",
    "        \n",
    "        return RT\n",
    "\n",
    "def where_is_max(h):\n",
    "    for i in range(len(h)):\n",
    "        if h[i]==max(h):\n",
    "            return i\n",
    "\n",
    "def find_first(vec,value):\n",
    "\n",
    "    mask = [vec <= value]\n",
    "    for i in range(len(mask[0])):\n",
    "        if mask[0][i]:\n",
    "            return i "
   ]
  },
  {
   "cell_type": "code",
   "execution_count": 11,
   "metadata": {
    "ExecuteTime": {
     "end_time": "2020-12-01T14:28:21.886988Z",
     "start_time": "2020-12-01T14:28:17.932374Z"
    }
   },
   "outputs": [
    {
     "name": "stderr",
     "output_type": "stream",
     "text": [
      "/Users/Nigglea/miniconda3/envs/ayudantia/lib/python3.6/site-packages/ipykernel_launcher.py:25: RuntimeWarning: divide by zero encountered in log10\n"
     ]
    }
   ],
   "source": [
    "region=[-5,-15]\n",
    "method=1\n",
    "delay_comp=0\n",
    "\n",
    "RT1 = np.zeros(Y1.shape[0])\n",
    "RT2 = np.zeros(Y2.shape[0])\n",
    "RT3 = np.zeros(Y3.shape[0])\n",
    "# Y1 = aula magna\n",
    "# Y2 = catedral\n",
    "# Y3 = reverberante\n",
    "for i in range(Y1.shape[0]):\n",
    "    RT1[i]= RT_schroeder(Y1[i],fs,region,method,delay_comp)\n",
    "    RT2[i]= RT_schroeder(Y2[i],fs,region,method,delay_comp)\n",
    "    RT3[i]= RT_schroeder(Y3[i],fs,region,method,delay_comp)"
   ]
  },
  {
   "cell_type": "code",
   "execution_count": 12,
   "metadata": {
    "ExecuteTime": {
     "end_time": "2020-12-01T14:28:22.363445Z",
     "start_time": "2020-12-01T14:28:21.937083Z"
    }
   },
   "outputs": [
    {
     "data": {
      "text/html": [
       "<div>\n",
       "<style scoped>\n",
       "    .dataframe tbody tr th:only-of-type {\n",
       "        vertical-align: middle;\n",
       "    }\n",
       "\n",
       "    .dataframe tbody tr th {\n",
       "        vertical-align: top;\n",
       "    }\n",
       "\n",
       "    .dataframe thead th {\n",
       "        text-align: right;\n",
       "    }\n",
       "</style>\n",
       "<table border=\"1\" class=\"dataframe\">\n",
       "  <thead>\n",
       "    <tr style=\"text-align: right;\">\n",
       "      <th></th>\n",
       "      <th>AulaMagna_Impulso [seg]</th>\n",
       "      <th>Catedral_Impulso [seg]</th>\n",
       "      <th>Reverberante [seg]</th>\n",
       "    </tr>\n",
       "    <tr>\n",
       "      <th>Hz</th>\n",
       "      <th></th>\n",
       "      <th></th>\n",
       "      <th></th>\n",
       "    </tr>\n",
       "  </thead>\n",
       "  <tbody>\n",
       "    <tr>\n",
       "      <th>125</th>\n",
       "      <td>1.571509</td>\n",
       "      <td>3.486421</td>\n",
       "      <td>9.851185</td>\n",
       "    </tr>\n",
       "    <tr>\n",
       "      <th>250</th>\n",
       "      <td>1.447979</td>\n",
       "      <td>3.726375</td>\n",
       "      <td>10.581780</td>\n",
       "    </tr>\n",
       "    <tr>\n",
       "      <th>500</th>\n",
       "      <td>1.323515</td>\n",
       "      <td>4.050720</td>\n",
       "      <td>10.356604</td>\n",
       "    </tr>\n",
       "    <tr>\n",
       "      <th>1000</th>\n",
       "      <td>1.188675</td>\n",
       "      <td>3.786827</td>\n",
       "      <td>8.546247</td>\n",
       "    </tr>\n",
       "    <tr>\n",
       "      <th>2000</th>\n",
       "      <td>1.174216</td>\n",
       "      <td>2.992281</td>\n",
       "      <td>5.752388</td>\n",
       "    </tr>\n",
       "    <tr>\n",
       "      <th>4000</th>\n",
       "      <td>1.204199</td>\n",
       "      <td>2.018436</td>\n",
       "      <td>4.064450</td>\n",
       "    </tr>\n",
       "  </tbody>\n",
       "</table>\n",
       "</div>"
      ],
      "text/plain": [
       "      AulaMagna_Impulso [seg]  Catedral_Impulso [seg]  Reverberante [seg]\n",
       "Hz                                                                       \n",
       "125                  1.571509                3.486421            9.851185\n",
       "250                  1.447979                3.726375           10.581780\n",
       "500                  1.323515                4.050720           10.356604\n",
       "1000                 1.188675                3.786827            8.546247\n",
       "2000                 1.174216                2.992281            5.752388\n",
       "4000                 1.204199                2.018436            4.064450"
      ]
     },
     "execution_count": 12,
     "metadata": {},
     "output_type": "execute_result"
    }
   ],
   "source": [
    "freq_idx=[125,250,500,1000,2000,4000]\n",
    "RT = pd.DataFrame(index=freq_idx)\n",
    "RT.index.name='Hz'\n",
    "RT[signals[0]+' [seg]']=RT1\n",
    "RT[signals[1]+' [seg]']=RT2\n",
    "RT[signals[2]+' [seg]']=RT3\n",
    "RT"
   ]
  },
  {
   "cell_type": "code",
   "execution_count": null,
   "metadata": {},
   "outputs": [],
   "source": []
  }
 ],
 "metadata": {
  "kernelspec": {
   "display_name": "ayudantia",
   "language": "python",
   "name": "ayudantia"
  },
  "language_info": {
   "codemirror_mode": {
    "name": "ipython",
    "version": 3
   },
   "file_extension": ".py",
   "mimetype": "text/x-python",
   "name": "python",
   "nbconvert_exporter": "python",
   "pygments_lexer": "ipython3",
   "version": "3.6.10"
  },
  "latex_envs": {
   "LaTeX_envs_menu_present": true,
   "autoclose": true,
   "autocomplete": true,
   "bibliofile": "biblio.bib",
   "cite_by": "apalike",
   "current_citInitial": 1,
   "eqLabelWithNumbers": true,
   "eqNumInitial": 1,
   "hotkeys": {
    "equation": "Ctrl-E",
    "itemize": "Ctrl-I"
   },
   "labels_anchors": false,
   "latex_user_defs": false,
   "report_style_numbering": true,
   "user_envs_cfg": true
  },
  "toc": {
   "base_numbering": 1,
   "nav_menu": {},
   "number_sections": true,
   "sideBar": true,
   "skip_h1_title": false,
   "title_cell": "Table of Contents",
   "title_sidebar": "Contents",
   "toc_cell": false,
   "toc_position": {},
   "toc_section_display": true,
   "toc_window_display": false
  }
 },
 "nbformat": 4,
 "nbformat_minor": 4
}
