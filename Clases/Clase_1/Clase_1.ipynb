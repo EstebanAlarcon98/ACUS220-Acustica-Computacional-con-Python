{
 "cells": [
  {
   "cell_type": "code",
   "execution_count": 1,
   "metadata": {},
   "outputs": [
    {
     "data": {
      "text/html": [
       "<!-- Mejorar visualización en proyector -->\n",
       "<style>\n",
       ".rendered_html {font-size: 1.2em; line-height: 150%;}\n",
       "div.prompt {min-width: 0ex; }\n",
       ".container {width:95% !important;}\n",
       "</style>\n"
      ],
      "text/plain": [
       "<IPython.core.display.HTML object>"
      ]
     },
     "metadata": {},
     "output_type": "display_data"
    }
   ],
   "source": [
    "%%HTML\n",
    "<!-- Mejorar visualización en proyector -->\n",
    "<style>\n",
    ".rendered_html {font-size: 1.2em; line-height: 150%;}\n",
    "div.prompt {min-width: 0ex; }\n",
    ".container {width:95% !important;}\n",
    "</style>"
   ]
  },
  {
   "cell_type": "markdown",
   "metadata": {},
   "source": [
    "<h1 style=\"text-align:center\">Semana 2. Clase 1: Entornos de trabajo y programas de control de versiones</h1>\n",
    "<h3 style=\"text-align:center\">ACUS220: Acústica computacional con Python</h3>\n",
    "<p style=\"text-align:center\">Dr. Víctor Poblete <br>\n",
    "<a href=\"mailto:vpoblete@uach.cl\">vpoblete@uach.cl</a><br>\n",
    "<a href=\"https://github.com/vpobleteacustica/ACUS099-Procesamiento-digital-de-senales\">https://github.com/vpobleteacustica/ACUS099-Procesamiento-digital-de-senales</a><br> \n",
    "<p style=\"text-align:center\">Diego Espejo Alquinta - Ayudante <br>\n",
    "<a href=\"mailto:diego.espejo@alumnos.uach.cl\">diego.espejo@alumnos.uach.cl </a><br>\n",
    "<a href=\"http://www.acusticauach.cl\">www.acusticauach.cl</a><br> "
   ]
  },
  {
   "cell_type": "code",
   "execution_count": 1,
   "metadata": {},
   "outputs": [],
   "source": [
    "# https://david-estevez.gitbooks.io/the-git-the-bad-and-the-ugly/content/es/control-de-versiones.html"
   ]
  },
  {
   "cell_type": "markdown",
   "metadata": {},
   "source": [
    "### Programa de control de versiones.\n",
    "\n",
    "+ Es un programa que registra los cambios que se realizan en uno o más archivos a lo largo del tiempo cuando se trabaja en un programa de computación.\n",
    "+ Ayuda a un equipo de profesionales que trabajan simultáneamente en un proyecto a gestionar los cambios en los códigos fuente y a compartirlos con el resto del equipo.\n",
    "+ Ediciones parciales o temporales realizadas al código no interferirán con el trabajo de otro integrante.\n"
   ]
  },
  {
   "cell_type": "markdown",
   "metadata": {},
   "source": [
    "### Por qué usar un sistema de control de versiones?\n",
    "\n",
    "+ Una manera de aprender a colaborar en proyectos interdisciplinarios.\n",
    "+ Da acceso a versiones históricas del proyecto. \n",
    "+ Es como un **seguro** contra fallas o pérdidas de datos. \n",
    "+ Si se comete un error, se puede volver a una versión anterior. \n",
    "+ Se puede reproducir y comprender errores en versiones anteriores. \n",
    "+ Se pueden deshacer ediciones específicas sin perder todo el trabajo.\n",
    "+ Para cualquier parte de un código, se puede determinar cuándo, por qué y quién editó los cambios.\n"
   ]
  },
  {
   "cell_type": "markdown",
   "metadata": {},
   "source": [
    "### Repositorios y copias de trabajo.\n",
    "\n",
    "+ Para el control de versiones usamos un **repositorio** y una **copia de trabajo** donde realizamos nuestras ediciones."
   ]
  },
  {
   "cell_type": "code",
   "execution_count": null,
   "metadata": {},
   "outputs": [],
   "source": []
  }
 ],
 "metadata": {
  "kernelspec": {
   "display_name": "acus220-env",
   "language": "python",
   "name": "acus220-env"
  },
  "language_info": {
   "codemirror_mode": {
    "name": "ipython",
    "version": 3
   },
   "file_extension": ".py",
   "mimetype": "text/x-python",
   "name": "python",
   "nbconvert_exporter": "python",
   "pygments_lexer": "ipython3",
   "version": "3.7.9"
  }
 },
 "nbformat": 4,
 "nbformat_minor": 4
}
