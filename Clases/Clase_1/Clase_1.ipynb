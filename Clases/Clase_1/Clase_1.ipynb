{
 "cells": [
  {
   "cell_type": "code",
   "execution_count": 3,
   "metadata": {},
   "outputs": [
    {
     "data": {
      "text/html": [
       "<!-- Mejorar visualización en proyector -->\n",
       "<style>\n",
       ".rendered_html {font-size: 1.2em; line-height: 150%;}\n",
       "div.prompt {min-width: 0ex; }\n",
       ".container {width:95% !important;}\n",
       "</style>\n"
      ],
      "text/plain": [
       "<IPython.core.display.HTML object>"
      ]
     },
     "metadata": {},
     "output_type": "display_data"
    }
   ],
   "source": [
    "%%HTML\n",
    "<!-- Mejorar visualización en proyector -->\n",
    "<style>\n",
    ".rendered_html {font-size: 1.2em; line-height: 150%;}\n",
    "div.prompt {min-width: 0ex; }\n",
    ".container {width:95% !important;}\n",
    "</style>"
   ]
  },
  {
   "cell_type": "markdown",
   "metadata": {},
   "source": [
    "<h1 style=\"text-align:center\">Semana 2. Clase 2: Entornos de trabajo y programas de control de versiones para un código</h1>\n",
    "<h3 style=\"text-align:center\">ACUS220: Acústica computacional con Python</h3>\n",
    "<p style=\"text-align:center\">Dr. Víctor Poblete <br>\n",
    "<a href=\"mailto:vpoblete@uach.cl\">vpoblete@uach.cl</a><br>\n",
    "<a href=\"https://github.com/vpobleteacustica/ACUS220-Acustica-Computacional-con-Python\">https://github.com/vpobleteacustica/ACUS220-Acustica-Computacional-con-Python</a><br> \n",
    "<p style=\"text-align:center\">Diego Espejo Alquinta - Ayudante <br>\n",
    "<a href=\"mailto:diego.espejo@alumnos.uach.cl\">diego.espejo@alumnos.uach.cl </a><br>\n",
    "<a href=\"http://www.acusticauach.cl\">www.acusticauach.cl</a><br> "
   ]
  },
  {
   "cell_type": "code",
   "execution_count": 2,
   "metadata": {},
   "outputs": [],
   "source": [
    "# https://david-estevez.gitbooks.io/the-git-the-bad-and-the-ugly/content/es/control-de-versiones.html"
   ]
  },
  {
   "cell_type": "markdown",
   "metadata": {},
   "source": [
    "### Programa de control de versiones para nuestro código.\n",
    "\n",
    "+ Si trabajamos solos en un proyecto (puede ser personal, comercial, o de investigación científica), podemos guardar toda nuestra base de datos de archivos en nuestro **directorio local** (repositorio o simplemente *repo*). \n",
    "+ Sin embargo, si el trabajo incluye colaboradores o investigadores (cercanos o lejanos), es conveniente aprender a pensar que nuestro proyecto lo podemos almacenar y compartir en un **directorio remoto** (o repositorio master en la *nube*).\n",
    "+ Existen diversas plataformas para alojar el proyecto como por ejemplo, en [Github](https://github.com/) y servicios similares (incluidos GitLab y BitBucket).\n",
    "+ Estos son sitios web que alojan un programa de servidor Git para almacenar nuestros códigos.\n",
    "+ Por lo tanto, GitHub es una interfaz basada en web que utiliza **Git**.\n",
    "+ GitHub promueve equipos de trabajar para crear y editar contenidos y códigos en su sitio.\n",
    "+ Antes de avanzar más, tenemos que entender a Git que es el corazón de GitHub. \n"
   ]
  },
  {
   "cell_type": "markdown",
   "metadata": {},
   "source": [
    "### Por qué es necesario usar un sistema de control de versiones?\n",
    "\n",
    "*Colaboración en tiempo real, seguridad y velocidad.*\n",
    "\n",
    "+ En la vida real, los proyectos (profesionales, personales, comerciales, así como también proyectos de investigación científica), tienen varios desarrolladores (investigadores) trabajando en paralelo y en lugares geográficos distintos.\n",
    "+ Una manera de aprender a **colaborar en tiempo real** en este tipo de proyectos interdisciplinarios.\n",
    "+ Da acceso a versiones históricas del proyecto. \n",
    "+ Es como un **seguro** contra fallas o pérdidas de datos. \n",
    "+ Si se comete un error, se puede volver a una versión anterior. \n",
    "+ Se puede reproducir y comprender errores en versiones anteriores, con **velocidad** y eficiencia. \n",
    "+ Se pueden deshacer ediciones específicas sin perder todo el trabajo.\n",
    "+ Para cualquier parte de un código, se puede determinar cuándo, por qué y quién editó los cambios."
   ]
  },
  {
   "cell_type": "markdown",
   "metadata": {},
   "source": [
    "### Qué es Git? \n",
    "\n",
    "+ **Git** es el corazón de **GitHub**.\n",
    "+ Convierte unas líneas de comandos en **la red social más grande para desarrolladores** de códigos y programas.\n",
    "+ Básicamente, Git es un programa, gratuito y de código abierto, de control de versiones lo que significa que todo el código base y el historial están disponibles para ser usados en cada computador de quienes colaboran.\n",
    "+ Git fue creado en 2005 por [Linus Torvalds](https://grupobcc.com/speakers/linus-torvalds/), el hombre que desarrolló entre otras muchas cosas el [kernel Linux](https://github.com/torvalds/linux).\n",
    "+ Git se puede instalar en Windows, macOS y Linux.\n",
    "+ Este está diseñado para manejar todo tipo de proyectos, desde proyectos pequeños a muy grandes.\n",
    "+ Se usa para ir siguiendo los cambios en los códigos y también para intercambiar archivos.\n",
    "+ Muchos proyectos de código abierto, por ejemplo, [Linux](https://www.linux.com/what-is-linux/) fueron posibles gracias a Git, donde cientos de profesionales se reunieron para trabajar colaborativamente en un sólo proyecto, pese a la diferencia sus ubicaciones geográficas.\n",
    "+ Ayuda a un equipo de investigadores o colaboradores a trabajar simultáneamente en el mismo proyecto y a gestionar los cambios en los códigos fuente compartiéndolos con el resto del equipo.\n",
    "+ Las ediciones parciales o temporales realizadas al código no interferirán con el trabajo de ningún otro integrante.\n"
   ]
  },
  {
   "cell_type": "markdown",
   "metadata": {},
   "source": [
    "### Directorio Git (Repositorio) \n",
    "\n",
    "+ Para colaborar con otros profesionales que participan del desarrollo, todos los archivos y bases de datos por ejemplo, audios, imágenes, textos, del proyecto se almacenan en un **Directorio Git** (también llamado repositorio).\n",
    "+ A este directorio puedan acceder todos los desarrolladores. \n",
    "+ De esta forma, los proyectos se **sincronizan**.\n",
    "+ Por ejemplo: [Bitbucket](https://bitbucket.org/), [GitLab](https://about.gitlab.com/) o [GitHub](https://github.com/), son directorios remotos Git en la nube. \n",
    "+ Ellos permiten **alojar repositorios** de manera rápida y cómoda, con una interfaz en forma de web y con todas las **medidas de seguridad** necesarias ya implementadas."
   ]
  },
  {
   "cell_type": "markdown",
   "metadata": {},
   "source": [
    "<!--- Inline HTML works too --->\n",
    "<p style=\"text-align:center\">\n",
    "    <a title=\"Servidor remoto y servidor local\"><img src=\"DirectorioGit.png\" width=\"300\" height=\"300\" alt=\"Tiny\"></a>\n",
    "    <strong>Figure 1. Una representación idealizada de los directorios: Git remoto y local. Ref: <a href=\"https://homes.cs.washington.edu/~mernst/advice/version-control.html\">https://homes.cs.washington.edu/~mernst/advice/version-control.html/</a><br></strong>"
   ]
  },
  {
   "cell_type": "markdown",
   "metadata": {},
   "source": [
    "### Formas de usar Git\n",
    "\n",
    "+ Podemos usar Git accediendo a través de **líneas de comandos por terminal** o bien, usando una aplicación **GUI** (*GUI, interfaz gráfica de usuario*) como alternativa de visualización.\n",
    "+ Por ejemplo, [para usuarios de Windows está Sourcetree](https://www.sourcetreeapp.com/), [para usuarios de macOS existe GitUp](https://gitup.co/), mientras que [para usuarios de Linux está Git Force](https://sites.google.com/site/gitforcetool/download).\n",
    "+ Ver en [las mejores GUI para Git de 2020 en todas las plataformas](https://www.hostinger.com/tutorials/best-git-gui-clients/)\n",
    "\n",
    "+ Para el control de versiones usamos un **repositorio** y una **copia de trabajo** donde realizamos nuestras ediciones.\n",
    "+ Por lo que debemos crear un repositorio en Git.\n",
    "+ Una vez que lo hemos creado vamos a poder enviar "
   ]
  },
  {
   "cell_type": "markdown",
   "metadata": {},
   "source": [
    "### Qué es GitHub?\n",
    "\n",
    "+ GitHub es una empresa con fines de lucro que ofrece un servicio de alojamiento de Directorios Git basado en la nube. \n",
    "+ Básicamente, GitHub hace fácil a las personas para que usen de Git, controlen las versiones de sus proyectos y facilita la colaboración entre equipos.\n",
    "+ Sin embargo, GitHub facilita también administrar otro tipo de proyectos, como escribir clases, o libros."
   ]
  },
  {
   "cell_type": "markdown",
   "metadata": {},
   "source": [
    "### Los tres estados de Git\n",
    "\n",
    "+ Git tiene tres **estados principales** en los que residen nuestros archivos: \n",
    "\n",
    "> + modificado o *modified*, \n",
    "> + preparado o *staged*, \n",
    "> + confirmado o *committed*,\n",
    "\n",
    "+ Modificado significa que modifiqué el archivo pero todavía no lo he confirmado a la base de datos. \n",
    "+ Preparado significa que marqué un archivo modificado en su versión actual para que vaya a una próxima confirmación.\n",
    "+ Confirmación significa que los datos se almacenaron de forma segura en nuestra base de datos local.\n"
   ]
  },
  {
   "cell_type": "markdown",
   "metadata": {},
   "source": [
    "### Secciones principales de un proyecto de Git\n",
    "\n",
    "+ De los estados de los archivos, pasamos a las secciones principales de un proyecto de Git.\n",
    "> + Directorio de Git o *Git directory*, \n",
    "> + Directorio de trabajo o *working directory*, \n",
    "> + Área de preparación o *staging area*. \n",
    "\n",
    "<!--- Inline HTML works too --->\n",
    "<p style=\"text-align:center\">\n",
    "    <a title=\"Secciones de un proyecto Git\"><img src=\"SeccionesGit2.png\" width=\"500\" height=\"500\" alt=\"Tiny\"></a>\n",
    "    <strong>Figure 2. Secciones de un proyecto Git. Ref: <a href=\"https://git-scm.com/book/en/v2/Getting-Started-What-is-Git%3F\">https://git-scm.com/book/en/v2/Getting-Started-What-is-Git%3F/</a><br></strong>"
   ]
  },
  {
   "cell_type": "markdown",
   "metadata": {},
   "source": [
    "### Ejemplo de uso de Git:\n",
    "\n",
    "+ **Verificar** si Git está instalado: \n",
    "> + Escribamos en el terminal el comando: \n",
    ">> + git --version\n",
    "+ **Descargar** Git:\n",
    "> + Según se requiera para [Windows](https://gitforwindows.org/), [macOS](https://git-scm.com/download/mac) o [Linux](https://git-scm.com/download/linux). \n",
    "+ **Creemos nuestro repositorio Git Local.** \n",
    "> + Para ésto, en nuestro computador crear una carpeta nueva para nuestro proyecto. Llamémosla: EjemploGit.\n",
    "> + Vamos ahora a la carpeta de nuestro ejemplo y agreguemos un repositorio de Git local al proyecto usando los siguientes comandos:\n",
    ">> + cd EjemploGit\n",
    "> > + git init\n",
    "> + El comando *git init* **agregó un repositorio de Git local** a nuestro ejemplo de proyecto.\n",
    "\n",
    "+ **Agreguemos un código pequeño ahora.**\n",
    "> + Creemos en la carpeta de ejemplo de proyecto, un archivo llamado demo.txt.\n",
    "> + Por ejemplo, en **Ubuntu**: el comando **cat** permite crear un archivo de texto desde terminal:\n",
    ">> + cat > demo.txt\n",
    "> + Después de presionar Enter, no regresará al *prompt* de terminal. \n",
    "> + Podemos escribir algunas líneas de texto directamente en el archivo demo.txt. \n",
    "> + Escribamos unas líneas de texto, por ejemplo: **Contenido inicial del archivo**. Luego, cuando haya terminado, presionemos Ctrl + D para salir del archivo y volver al prompt.\n",
    "> + Para verificar que demo.txt fue creado, usamos el comando *ls* para mostrar una lista de directorios y de archivos.\n",
    "\n",
    "+ **Staging** y **Commiting**.\n",
    "> + Ya sabemos que **committing** significa que el código (en este caso un texto) se agregará al **repositorio Git local**.\n",
    "> + Como se ve en la Figura 2, antes de hacer un **committing** al código, éste se encuentra en el área de **staging**.\n",
    "> + El área de **staging** está diseñada para mantener seguimiento de todos los archivos que serán **commited** o confirmados.\n",
    "> + Cualquier archivo que NO se agregue al área de **staging** no será **committed**.\n",
    "\n",
    "+ **Staging**\n",
    "> + Usamos el siguiente comando para hacer **staging** a nuestro archivo:\n",
    ">> + git add demo.txt\n",
    "> + Si tuviéramos múltiples archivos podemos usar:\n",
    ">> + git add archivo1 archivo2 archivo3\n",
    "> Si queremos agregar todos los archivos que están dentro de nuestra carpeta de proyecto al área de **staging** usamos el siguiente comando:\n",
    ">> + git add .\n",
    "\n",
    "+ **Committing**\n",
    "> + Utilizamos el siguiente comando para hacer **commit** al archivo:\n",
    ">> + git commit - \"Commit inicial de Ejemplo\"\n",
    ">> + \"Commit inicial de Ejemplo\" es un mensaje (puede ser cualquier mensaje relativo al cambio realizado) y que se sugiere hacer en cada **commit**. Este es relevante puesto que indica que se han hecho cambios en el código en este **commit** en particular. \n"
   ]
  },
  {
   "cell_type": "code",
   "execution_count": null,
   "metadata": {},
   "outputs": [],
   "source": []
  }
 ],
 "metadata": {
  "kernelspec": {
   "display_name": "acus220-env",
   "language": "python",
   "name": "acus220-env"
  },
  "language_info": {
   "codemirror_mode": {
    "name": "ipython",
    "version": 3
   },
   "file_extension": ".py",
   "mimetype": "text/x-python",
   "name": "python",
   "nbconvert_exporter": "python",
   "pygments_lexer": "ipython3",
   "version": "3.7.9"
  }
 },
 "nbformat": 4,
 "nbformat_minor": 4
}
