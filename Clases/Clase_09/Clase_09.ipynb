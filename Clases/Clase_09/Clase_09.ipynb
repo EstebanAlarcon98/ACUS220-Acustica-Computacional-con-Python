{
 "cells": [
  {
   "cell_type": "code",
   "execution_count": 1,
   "metadata": {
    "ExecuteTime": {
     "end_time": "2020-12-15T13:12:33.279631Z",
     "start_time": "2020-12-15T13:12:33.155742Z"
    }
   },
   "outputs": [
    {
     "data": {
      "text/html": [
       "<!-- Mejorar visualización en proyector -->\n",
       "<style>\n",
       ".rendered_html {font-size: 1.2em; line-height: 150%;}\n",
       "div.prompt {min-width: 0ex; }\n",
       ".container {width:95% !important;}\n",
       "</style>\n"
      ],
      "text/plain": [
       "<IPython.core.display.HTML object>"
      ]
     },
     "metadata": {},
     "output_type": "display_data"
    }
   ],
   "source": [
    "%%HTML\n",
    "<!-- Mejorar visualización en proyector -->\n",
    "<style>\n",
    ".rendered_html {font-size: 1.2em; line-height: 150%;}\n",
    "div.prompt {min-width: 0ex; }\n",
    ".container {width:95% !important;}\n",
    "</style>"
   ]
  },
  {
   "cell_type": "markdown",
   "metadata": {},
   "source": [
    "<h1 style=\"text-align:center\">Semana 14. Clase 12: Desarrollo en acústica de aplicaciones computacionales</h1>\n",
    "<h3 style=\"text-align:center\">ACUS220: Acústica computacional con Python</h3>\n",
    "<p style=\"text-align:center\">Dr. Víctor Poblete <br>\n",
    "<a href=\"mailto:vpoblete@uach.cl\">vpoblete@uach.cl</a><br>\n",
    "<a href=\"https://github.com/vpobleteacustica/ACUS220-Acustica-Computacional-con-Python\">https://github.com/vpobleteacustica/ACUS220-Acustica-Computacional-con-Python</a><br> \n",
    "<p style=\"text-align:center\">Diego Espejo Alquinta - Ayudante <br>\n",
    "<a href=\"mailto:diego.espejo@alumnos.uach.cl\">diego.espejo@alumnos.uach.cl </a><br>\n",
    "<a href=\"http://www.acusticauach.cl\">www.acusticauach.cl</a><br> "
   ]
  },
  {
   "cell_type": "markdown",
   "metadata": {},
   "source": [
    "# Introducción\n",
    "\n",
    "Actualmente, dentro de la acústica computacional se distinguen hot topics o temas en el estado del arte.\n",
    "\n",
    "## Mineria de audios\n",
    "\n",
    "+ La mineria de audios es un proceso a través del cual un conjunto grande de señales de audio se pueden analizar y detectar información de forma automática.\n",
    "+ Tambien se le llama busqueda de audios.\n",
    "+ Esta tarea tiene como objetivo encontrar patrones de sonidos que expliquen el comportamiento de los datos en su contexto especifico.\n",
    "+ El analisis de datos masivos de audio conduce a descubrir valiosos conocimientos y conceptos teoricos que ayudan a la comunidad cientifica, social, politica a mejorar sus operaciones y hacer mas rapida e inteligente la toma de decisiones.\n",
    "+ La tecnica mas usada dentro de la mineria de audio es clasificación de sonidos.\n",
    "\n",
    "## Aprendizaje de máquinas\n",
    "+ Una de las caracteristicas distintivas del comportamiento inteligente es la habilidad de aprender.\n",
    "+ El proceso de aprender incluye adquirir nuevos conocimientos, desarrollar habilidades cognitivas, organizar nuevo conocimiento, representaciones efectivas, y descubrir nuevos hechos y teorias a través de la experimentación.\n",
    "+ El estudio y el modelamiento computacional de procesos de aprendizaje es lo que constituye el tópico de aprendizaje de máquinas.\n",
    "+ En audio, cualquier problema de aprendizaje de máquinas puede ser dividido en tres tareas:\n",
    "    + Construcción de una base de datos.\n",
    "    + Entrenamiento de un modelo.\n",
    "    + Evaluación de un modelo.\n",
    "+ Cualquiera de estas tareas usa técnicas estadísticas para descubrir y utilizar patrones dentro de los datos.\n",
    "+ Usualmente este modelo permite realizar tareas como:\n",
    "    + Clasificación.\n",
    "    + Reconocimiento.\n",
    "    + Detección.\n",
    "    + Sintesis.\n",
    "\n",
    "## Modelamiento de recintos acústicos\n",
    "\n",
    "+ Estos algoritmos permiten recrear y visualizar acústicamente el campo sonoro de un recinto bajo diferentes condiciones de transmisión del sonido dentro del ambiente.\n",
    "\n",
    "## Musica computacional\n",
    "\n",
    "+ Esta es una tarea especifica en el ambito musical que permite a un compositor usar algoritmos y modelos como herramienta creativa.\n",
    "+ Ademas, puede entenderse como una aplicación para que el computador aprenda a clasificar acordes, reconocer melodias, detectar caracteristicas dentro de la musica, asi como tambien transcribir musica a partitura o viceversa."
   ]
  },
  {
   "cell_type": "markdown",
   "metadata": {},
   "source": [
    "# Ejemplos\n",
    "\n",
    "## [Pytorch - Wavenet](https://github.com/vincentherrmann/pytorch-wavenet)\n",
    "\n",
    "## [AI - Songwritter](https://github.com/statsmagician/AI-Song-Writer)\n",
    "\n",
    "##  [SoundlapseUACh](https://github.com/Nigglea/SoundlapseUACh)\n"
   ]
  }
 ],
 "metadata": {
  "kernelspec": {
   "display_name": "ayudantia",
   "language": "python",
   "name": "ayudantia"
  },
  "language_info": {
   "codemirror_mode": {
    "name": "ipython",
    "version": 3
   },
   "file_extension": ".py",
   "mimetype": "text/x-python",
   "name": "python",
   "nbconvert_exporter": "python",
   "pygments_lexer": "ipython3",
   "version": "3.6.10"
  },
  "latex_envs": {
   "LaTeX_envs_menu_present": true,
   "autoclose": true,
   "autocomplete": true,
   "bibliofile": "biblio.bib",
   "cite_by": "apalike",
   "current_citInitial": 1,
   "eqLabelWithNumbers": true,
   "eqNumInitial": 1,
   "hotkeys": {
    "equation": "Ctrl-E",
    "itemize": "Ctrl-I"
   },
   "labels_anchors": false,
   "latex_user_defs": false,
   "report_style_numbering": true,
   "user_envs_cfg": true
  },
  "toc": {
   "base_numbering": 1,
   "nav_menu": {},
   "number_sections": true,
   "sideBar": true,
   "skip_h1_title": false,
   "title_cell": "Table of Contents",
   "title_sidebar": "Contents",
   "toc_cell": false,
   "toc_position": {},
   "toc_section_display": true,
   "toc_window_display": false
  }
 },
 "nbformat": 4,
 "nbformat_minor": 4
}
