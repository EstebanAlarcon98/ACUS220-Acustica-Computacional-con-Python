{
 "cells": [
  {
   "cell_type": "code",
   "execution_count": null,
   "metadata": {},
   "outputs": [],
   "source": [
    "%%HTML\n",
    "<!-- Mejorar visualización en proyector -->\n",
    "<style>\n",
    ".rendered_html {font-size: 1.2em; line-height: 150%;}\n",
    "div.prompt {min-width: 0ex; }\n",
    ".container {width:95% !important;}\n",
    "</style>"
   ]
  },
  {
   "cell_type": "markdown",
   "metadata": {},
   "source": [
    "<h1 style=\"text-align:center\">Semana 5. Clase 5: Python: Funciones nativas y estructuras de control.</h1>\n",
    "<h3 style=\"text-align:center\">ACUS220: Acústica computacional con Python</h3>\n",
    "<p style=\"text-align:center\">Dr. Víctor Poblete <br>\n",
    "<a href=\"mailto:vpoblete@uach.cl\">vpoblete@uach.cl</a><br>\n",
    "<a href=\"https://github.com/vpobleteacustica/ACUS220-Acustica-Computacional-con-Python\">https://github.com/vpobleteacustica/ACUS220-Acustica-Computacional-con-Python</a><br> \n",
    "<p style=\"text-align:center\">Diego Espejo Alquinta - Ayudante <br>\n",
    "<a href=\"mailto:diego.espejo@alumnos.uach.cl\">diego.espejo@alumnos.uach.cl </a><br>\n",
    "<a href=\"http://www.acusticauach.cl\">www.acusticauach.cl</a><br> "
   ]
  },
  {
   "cell_type": "markdown",
   "metadata": {},
   "source": [
    "# Introduccion\n",
    "\n",
    "+ Una función es un bloque de código que se utiliza para realizar una cierta acción.\n",
    "+ Las funciones proporcionan un orden en formato de modulos para su aplicación y reutilización.\n",
    "+ Las estructuras de control permiten tomar decisiones y realizar un proceso repetidas veces. \n",
    "+ Se trata de estructuras muy importantes, ya que son las encargadas de controlar el flujo de un programa, según los requerimientos del mismo."
   ]
  },
  {
   "cell_type": "markdown",
   "metadata": {},
   "source": [
    "## Funciones nativas\n",
    "+ Las funciones nativas son aquellas que vienen en la librería estandar de Python.\n",
    "+ La librería estandar contiene funciones optimizadas para lenguaje Python.\n",
    "+ Siempre estan disponible, no es necesario importarlas.\n",
    "+ Las mas importantes son:\n",
    "```Python\n",
    "print() #mostrar en pantalla una variable o texto en particular\n",
    "int() #Conversion a entero\n",
    "float() #Conversion a flotante\n",
    "str() #Conversion a caracter\n",
    "abs() #Valor Absoluto\n",
    "round() #Redondeo al entero\n",
    "range() #Lista desde cero a un valor en particular .... (inicio,termino,paso)\n",
    "len() #Largo de una lista o vector o matriz\n",
    "help() #Pedir documentacion sobre alguna funcion ....(funcion)\n",
    "```"
   ]
  },
  {
   "cell_type": "code",
   "execution_count": 2,
   "metadata": {
    "ExecuteTime": {
     "end_time": "2020-10-27T13:53:14.749883Z",
     "start_time": "2020-10-27T13:53:14.718448Z"
    }
   },
   "outputs": [
    {
     "name": "stdout",
     "output_type": "stream",
     "text": [
      "Veamos las funciones nativas o integradas\n",
      "Esta es la lista A:  [5, 8, 13, 6, 14, 7, 23, 11, 29]\n",
      "Convirtamos el primer elemento a caracter 5 es un cinco\n",
      "Ahora en el primer elemento a punto flotante  5.0\n",
      "Que tan larga es la lista A? Tiene  9  elementos\n",
      "B es una lista con numeros flotantes\n",
      "B es: [2.35, 7.81, -19.98, 7.41, 8.24, 42.1]\n",
      "Convertimos a entero la tercera posicion de -19.98 a -19\n",
      "Ahora lo redondeamos a -20\n",
      "Que tal si le sacamos el valor absoluto? 19.98\n",
      "(3+4j)\n",
      "5.0\n"
     ]
    }
   ],
   "source": [
    "A = [5,8,13,6,14,7,23,11,29] #Declara lista\n",
    "print(\"Veamos las funciones nativas o integradas\")\n",
    "print(\"Esta es la lista A: \",A)\n",
    "print(\"Convirtamos el primer elemento a caracter \"+ str(A[0])+' es un cinco')\n",
    "print(\"Ahora en el primer elemento a punto flotante \", float(A[0]))\n",
    "print('Que tan larga es la lista A? Tiene ', len(A), ' elementos')\n",
    "\n",
    "#####################################################################################33\n",
    "####   0   1      2\n",
    "B = [2.35,7.81,-19.98,7.41,8.24,42.1]\n",
    "print('B es una lista con numeros flotantes')\n",
    "print('B es:',B)\n",
    "print('Convertimos a entero la tercera posicion de',B[2],'a',int(B[2])) # 0 1 2\n",
    "print('Ahora lo redondeamos a',round(B[2]))\n",
    "print('Que tal si le sacamos el valor absoluto?',abs(B[2]))\n",
    "print(3+4j)\n",
    "print(abs(3+4j))"
   ]
  },
  {
   "cell_type": "markdown",
   "metadata": {},
   "source": [
    "## Sentencias de control\n",
    "+ En esta clase veremos tres de los operadores logicos mas populares:\n",
    "\n",
    "        for\n",
    "        while\n",
    "        if\n",
    "       \n",
    "       \n",
    "+ El ciclo `for` se caracteriza por recorrer una lista, vector o arreglo desde un cierto punto inicial, hasta uno final.\n",
    "+ Este recorrido se utiliza para procesos iterativos o para operaciones elemento a elemento.\n",
    " ```Python\n",
    "for i in (objeto a recorrer):\n",
    "    accion\n",
    "```\n",
    "+ El ciclo `while` por su parte tambien es un proceso iterativo que si se cumple cierta condicion, se termina el ciclo\n",
    "+ Esta operacion se utiliza por ejemplo, para procesos que necesitan convergencia o umbral.\n",
    "```Python\n",
    "while condición:\n",
    "    accion\n",
    "```\n",
    "+ La sentencia `if` se utiliza para condiciones multiples, se hace la comparación con una bifurcación de caminos.\n",
    "+ Esta sentencia se utiliza por ejemplo, para operaciones matematicas que tienen cierto comportamiento en pares, y otro para los impares.\n",
    "```Python\n",
    "if condición 1:\n",
    "    accion 1\n",
    "if condición 2:\n",
    "    accion 2\n",
    "else:\n",
    "    acción 3\n",
    "```\n"
   ]
  },
  {
   "cell_type": "code",
   "execution_count": 5,
   "metadata": {
    "ExecuteTime": {
     "end_time": "2020-10-27T14:13:37.570160Z",
     "start_time": "2020-10-27T14:13:37.552064Z"
    }
   },
   "outputs": [
    {
     "name": "stdout",
     "output_type": "stream",
     "text": [
      "[2, 7, -19, 7, 8, 42]\n",
      "[2, 7, -19, 7, 8, 42]\n",
      "La suma de la lista A es  116\n",
      "5  es impar\n",
      "8  es par\n",
      "13  es impar\n",
      "6  es par\n",
      "14  es par\n",
      "7  es impar\n",
      "23  es impar\n",
      "11  es impar\n",
      "29  es impar\n"
     ]
    }
   ],
   "source": [
    "C = B\n",
    "print(C)\n",
    "for i in range(len(C)):\n",
    "    C[i] = int(C[i])\n",
    "print(C)\n",
    "\n",
    "####################################################\n",
    "\n",
    "suma=0\n",
    "p = 0\n",
    "while p<len(A):\n",
    "    suma +=  A[p]\n",
    "    p +=  1\n",
    "print('La suma de la lista A es ',suma)\n",
    "\n",
    "####################################################\n",
    "\n",
    "for a in A:\n",
    "    r = a%2\n",
    "    if r==0:\n",
    "        print(a, \" es par\")\n",
    "    else:\n",
    "        print(a, ' es impar')"
   ]
  },
  {
   "cell_type": "markdown",
   "metadata": {},
   "source": [
    "## Ejercicios\n",
    "\n",
    "Crear rutina que\n",
    "\n",
    "1.  Detecte numeros primos de la lista A\n",
    "1.  Imprima los digitos del numero `5789` de izquierda a derecha y de derecha a izquierda"
   ]
  },
  {
   "cell_type": "code",
   "execution_count": 19,
   "metadata": {
    "ExecuteTime": {
     "end_time": "2020-10-27T14:37:22.964793Z",
     "start_time": "2020-10-27T14:37:22.950187Z"
    }
   },
   "outputs": [
    {
     "name": "stdout",
     "output_type": "stream",
     "text": [
      "[5, 8, 13, 6, 14, 7, 23, 11, 29]\n",
      "5\n",
      "8\n",
      "No es primo\n",
      "13\n",
      "6\n",
      "No es primo\n",
      "14\n",
      "No es primo\n",
      "7\n",
      "23\n",
      "11\n",
      "29\n"
     ]
    }
   ],
   "source": [
    "# Detector de numeros primos\n",
    "print(A)\n",
    "for a in A:\n",
    "    print(a)\n",
    "    if a==1 :\n",
    "        print(a,\"es primo\")\n",
    "    for x in range(2,int(a/2)+1):\n",
    "        if (a % x == 0):\n",
    "            print(\"No es primo\")\n",
    "            break"
   ]
  },
  {
   "cell_type": "code",
   "execution_count": null,
   "metadata": {},
   "outputs": [],
   "source": [
    "n=5789"
   ]
  }
 ],
 "metadata": {
  "kernelspec": {
   "display_name": "Python 3",
   "language": "python",
   "name": "python3"
  },
  "language_info": {
   "codemirror_mode": {
    "name": "ipython",
    "version": 3
   },
   "file_extension": ".py",
   "mimetype": "text/x-python",
   "name": "python",
   "nbconvert_exporter": "python",
   "pygments_lexer": "ipython3",
   "version": "3.6.10"
  },
  "toc": {
   "base_numbering": 1,
   "nav_menu": {},
   "number_sections": true,
   "sideBar": true,
   "skip_h1_title": false,
   "title_cell": "Table of Contents",
   "title_sidebar": "Contents",
   "toc_cell": false,
   "toc_position": {},
   "toc_section_display": true,
   "toc_window_display": false
  }
 },
 "nbformat": 4,
 "nbformat_minor": 4
}
