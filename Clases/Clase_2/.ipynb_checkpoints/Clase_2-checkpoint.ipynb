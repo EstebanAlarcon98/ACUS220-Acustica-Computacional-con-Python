{
 "cells": [
  {
   "cell_type": "code",
   "execution_count": 3,
   "metadata": {},
   "outputs": [
    {
     "data": {
      "text/html": [
       "<!-- Mejorar visualización en proyector -->\n",
       "<style>\n",
       ".rendered_html {font-size: 1.2em; line-height: 150%;}\n",
       "div.prompt {min-width: 0ex; }\n",
       ".container {width:95% !important;}\n",
       "</style>\n"
      ],
      "text/plain": [
       "<IPython.core.display.HTML object>"
      ]
     },
     "metadata": {},
     "output_type": "display_data"
    }
   ],
   "source": [
    "%%HTML\n",
    "<!-- Mejorar visualización en proyector -->\n",
    "<style>\n",
    ".rendered_html {font-size: 1.2em; line-height: 150%;}\n",
    "div.prompt {min-width: 0ex; }\n",
    ".container {width:95% !important;}\n",
    "</style>"
   ]
  },
  {
   "cell_type": "markdown",
   "metadata": {},
   "source": [
    "<h1 style=\"text-align:center\">Semana 2. Clase 2: Entornos de trabajo y programas de control de versiones para un código</h1>\n",
    "<h3 style=\"text-align:center\">ACUS220: Acústica computacional con Python</h3>\n",
    "<p style=\"text-align:center\">Dr. Víctor Poblete <br>\n",
    "<a href=\"mailto:vpoblete@uach.cl\">vpoblete@uach.cl</a><br>\n",
    "<a href=\"https://github.com/vpobleteacustica/ACUS220-Acustica-Computacional-con-Python\">https://github.com/vpobleteacustica/ACUS220-Acustica-Computacional-con-Python</a><br> \n",
    "<p style=\"text-align:center\">Diego Espejo Alquinta - Ayudante <br>\n",
    "<a href=\"mailto:diego.espejo@alumnos.uach.cl\">diego.espejo@alumnos.uach.cl </a><br>\n",
    "<a href=\"http://www.acusticauach.cl\">www.acusticauach.cl</a><br> "
   ]
  },
  {
   "cell_type": "markdown",
   "metadata": {},
   "source": [
    "### 1. Introducción \n",
    "\n",
    "+ **Git** es un programa de control de versiones (*VCS, version control system*).\n",
    "+ Un programa de control de versiones sirve como repositorio (o repo) de códigos de programas, incluyendo todas las revisiones históricas.\n",
    "+ Además, un VCS registra cambios a los archivos, en los llamados *commits* en un archivo *log* de tal manera que se puede recuperar cualquier archivo en cualquier punto *commit*.\n",
    "\n",
    "#### Por qué es necesario usar un sistema de control de versiones?\n",
    "\n",
    "1. El repo sirve como un respaldo en caso que se cambie el código o se dañe o falle nuestro computador.\n",
    "2. Es un archivo *vivo* de cada una de las revisiones históricas. Nos permite volver a una versión específica, si surge la necesidad.\n",
    "3. Facilita la colaboración entre los miembros del equipo y sirve como una herramienta de gestión de proyectos.\n",
    "\n",
    "Git fue creado en 2005 por [Linus Torvalds](https://grupobcc.com/speakers/linus-torvalds/), para apoyar el desarrollo del [kernel Linux](https://github.com/torvalds/linux).\n",
    "\n",
    "El link principal de Git es https://git-scm.com/"
   ]
  },
  {
   "cell_type": "markdown",
   "metadata": {},
   "source": [
    "### 2.  Configurando Git\n",
    "\n",
    "+ Primero, **verificar** si Git está instalado: \n",
    "> + Escribamos en el terminal el comando: \n",
    ">> + git --version\n",
    "\n",
    "+ Si no lo está, entonces necesitaremos configurar Git en nuestra máquina local. Seguimos los siguientes pasos:\n",
    "> 1. Descargar & instalar:\n",
    ">> + Para Windows y macOS, bajar el instalador desde: https://git-scm.com/downloads y correr el programa de instalación.\n",
    ">> + Para Ubuntu, escribir el comando:\n",
    ">>> + sudo apt-get install git\n",
    "> 2. Personalizar Git:\n",
    ">> + Para trabajar con Git, primero debemos decirle quiénes somos. Debemos establecer nuestro nombre de usuario, correo electrónico y el comando git config:\n",
    ">> + Configuremos nuestro nombre de usuario y correo electrónico que se usarán para etiquetar nuestras confirmaciones o *commits*. Usamos terminal:\n",
    ">>> + git config --global user.name \"your-name\"\n",
    ">>> + git config --global user.email \"your-email@youremail.com\""
   ]
  },
  {
   "cell_type": "markdown",
   "metadata": {},
   "source": [
    "### Los tres estados de Git\n",
    "\n",
    "+ Git tiene tres **estados principales** en los que residen nuestros archivos: \n",
    "\n",
    "> + modificado o *modified*, \n",
    "> + preparado o *staged*, \n",
    "> + confirmado o *committed*,\n",
    "\n",
    "+ Modificado significa que modifiqué el archivo pero todavía no lo he confirmado a la base de datos. \n",
    "+ Preparado significa que marqué un archivo modificado en su versión actual para que vaya a una próxima confirmación.\n",
    "+ Confirmación significa que los datos se almacenaron de forma segura en nuestra base de datos local.\n",
    "\n",
    "### Secciones principales de un proyecto de Git\n",
    "\n",
    "+ De los estados de los archivos, pasamos a las secciones principales de un proyecto de Git.\n",
    "> + Directorio de Git o *Git directory*, \n",
    "> + Directorio de trabajo o *working directory*, \n",
    "> + Área de preparación o *staging area*. \n",
    "\n",
    "<!--- Inline HTML works too --->\n",
    "<p style=\"text-align:center\">\n",
    "    <a title=\"Secciones de un proyecto Git\"><img src=\"SeccionesGit2.png\" width=\"500\" height=\"500\" alt=\"Tiny\"></a>\n",
    "    <strong>Figure 2. Secciones de un proyecto Git. Ref: <a href=\"https://git-scm.com/book/en/v2/Getting-Started-What-is-Git%3F\">https://git-scm.com/book/en/v2/Getting-Started-What-is-Git%3F/</a><br></strong>"
   ]
  },
  {
   "cell_type": "markdown",
   "metadata": {},
   "source": [
    "###  3. Comandos básicos de Git\n",
    "\n",
    "> + Podemos usar Git accediendo a través de **líneas de comandos por terminal** o bien, usando una aplicación **GUI** (*GUI, interfaz gráfica de usuario*) como alternativa de visualización.\n",
    "> + Por ejemplo, para usuarios de Windows está [Sourcetree](https://www.sourcetreeapp.com/), para usuarios de macOS existe [GitUp](https://gitup.co/), mientras que para usuarios de Linux está [Git Force](https://sites.google.com/site/gitforcetool/download).\n",
    "> + Ver las mejores GUI para Git de 2020 en todas las plataformas en el siguiente link: https://www.hostinger.com/tutorials/best-git-gui-clients/\n",
    "\n",
    "+ Para declarar un comando:\n",
    "> + git $\\text{<comando>}$ $\\text{<argumento>}$\n",
    "+ Los comandos de uso más común son:\n",
    "> + init (para iniciar un proyecto gestionado por Git).\n",
    "> + add (para organizar ediciones y cambios de archivos).\n",
    "> + commit (para confirmar cambios)\n",
    "\n",
    "+ Para obtener ayuda de los comando Git puede ser:\n",
    "> + git help $\\text{<comando>}$, o bien,\n",
    "> + git $\\text{<comando>}$ --help"
   ]
  },
  {
   "cell_type": "markdown",
   "metadata": {},
   "source": [
    "### 3.1 Introducción a un repo local \n",
    "\n",
    "+ Existen 2 formas de iniciar un proyecto administrado por Git:\n",
    "> + Comenzar con nuestro propio proyecto.\n",
    "> + Clonar un proyecto existente desde un *host* o servidor GIT.\n",
    "+ Vamos a partir primero comenzando con nuestro propio proyecto.\n",
    "+ Más tarde, vamos a ver cómo clonar un proyecto desde un repositorio remoto.\n",
    "\n",
    "### Ejercicio. \n",
    "\n",
    "#### Configurar el directorio de trabajo para un nuevo proyecto\n",
    "\n",
    "+ Comencemos un proyecto de programación en el directorio de trabajo llamado \"Hola_Git\", con un archivo fuente \"Hola_Git.py\" que solamente tenga una línea: print('Hola Git!'). \n",
    "+ Lo haremos de la siguiente manera:\n",
    "\n",
    "> + Necesitamos crear un nuevo repo para trabajar:\n",
    ">> + mkdir Hola_Git\n",
    ">> + cd Hola_Git\n",
    "> + Crearemos un repo Git para este proyecto. Usamos el comando: \n",
    ">> + git init \n",
    ">> + Inicializamos un repositorio Git vacío en ../Hola_Git/.git/\n",
    ">> + Se creó un subdirectorio oculto llamado **.git** en el directorio raíz de nuestro proyecto.\n",
    ">> + Esto se muestra usando los comandos:\n",
    ">>> + ls -a\n",
    ">> + vemos que este subdirectorio oculto .git contiene TODOS la información relacionada a Git.\n",
    "> + Una vez que tenemos nuestro repo, le preguntaremos a Git al respecto. El comando de Git que usaremos con más frecuencia es \n",
    ">> + git status\n",
    ">> + Esto nos está mostrando información: en qué rama nos encontramos, (hablaremos de las ramas más adelante) y que no tiene nada que confirmar. Esta última parte significa que no hay archivos en este directorio que Git no conozca. Eso es bueno, ya que acabamos de crear el directorio.\n",
    "\n",
    "#### Agregamos un archivo nuevo: \"Hola_Git.py\"\n",
    "\n",
    "+ Ahora, en nuestro repo creamos el archivo \"Hola_Git.py\" el cual Git no conoce. \n",
    "+ Con nuestro editor Visual Studio Code (o el que se utilice frecuentemente), creemos este archivo que sólo tiene una declaración de impresión: print('Hola Git!').\n",
    "+ Si nuevamente corremos la línea:\n",
    "> + git status\n",
    "\n",
    "+ veremos un resultado diferente.\n",
    "\n",
    "+ Ahora Git está viendo el nuevo archivo y nos informa que \"Hola_Git.py\" no está rastreado.\n",
    "+ Esta es la manera en que Git nos informa que el archivo \"Hola_Git.py\" no es parte del repositorio Git y, por lo tanto, no está bajo control de versiones. \n",
    "+ Podemos solucionarlo agregando el archivo a Git. Para que eso suceda, usamos el comando, git add:\n",
    "> + git add Hola_Git.py\n",
    "+ Corremos de nuevo, git status:\n",
    "> git status\n",
    "+ Esto nos dice ahora que Git sí conoce Hola_Git.py y lo enumera en los cambios a ser confirmados. \n",
    "+ Como muestra la Figura 2, agregar el archivo a Git usando **add** lo que hizo fue moverlo al área de preparación o *staging* y significa que ya podemos enviarlo al repositorio.\n",
    "\n",
    "#### Confirmando o *committing* los cambios\n",
    "\n",
    "+ Cuando confirmamos los cambios, estamos pidiéndole a Git que haga una \"foto\" instantánea de este estado en el repositorio. \n",
    "\n",
    "+ Hagámoslo ahora usando el comando: git commit. \n",
    "\n",
    "+ Antes de correrlo, es importante agregar a *git commit* la opción: -m, que le dice a Git que use el mensaje de confirmación que sigue a continuación. \n",
    "\n",
    "+ En general, es aconsejable que los mensajes de confirmación reflejen qué ha cambiado en la confirmación:\n",
    "\n",
    "> + git commit -m \"Creamos archivo Hola_Git.py\"\n",
    "\n",
    "+ Nuevamente, corremos la línea: git status.\n",
    "+ Vemos que tenemos un directorio de trabajo limpio, lo que significa que todos los cambios están **committed** (confirmados) para Git."
   ]
  },
  {
   "cell_type": "code",
   "execution_count": null,
   "metadata": {},
   "outputs": [],
   "source": []
  },
  {
   "cell_type": "code",
   "execution_count": null,
   "metadata": {},
   "outputs": [],
   "source": []
  },
  {
   "cell_type": "markdown",
   "metadata": {},
   "source": [
    "### Programa de control de versiones para nuestro código.\n",
    "\n",
    "+ Si trabajamos solos en un proyecto (puede ser personal, comercial, o de investigación científica), podemos guardar toda nuestra base de datos de archivos en nuestro **directorio local** (repositorio o simplemente *repo*). \n",
    "+ Sin embargo, si el trabajo incluye colaboradores o investigadores (cercanos o lejanos), es conveniente aprender a pensar que nuestro proyecto lo podemos almacenar y compartir en un **directorio remoto** (o repositorio master en la *nube*).\n",
    "+ Existen diversas plataformas para alojar el proyecto como por ejemplo, en [Github](https://github.com/) y servicios similares (incluidos GitLab y BitBucket).\n",
    "+ Estos son sitios web que alojan un programa de servidor Git para almacenar nuestros códigos.\n",
    "+ Por lo tanto, GitHub es una interfaz basada en web que utiliza **Git**.\n",
    "+ GitHub promueve equipos de trabajar para crear y editar contenidos y códigos en su sitio.\n",
    "+ Antes de avanzar más, tenemos que entender a Git que es el corazón de GitHub. "
   ]
  },
  {
   "cell_type": "markdown",
   "metadata": {},
   "source": [
    "### Por qué es necesario usar un sistema de control de versiones?\n",
    "\n",
    "*Colaboración en tiempo real, seguridad y velocidad.*\n",
    "\n",
    "+ En la vida real, los proyectos (profesionales, personales, comerciales, así como también proyectos de investigación científica), tienen varios desarrolladores (investigadores) trabajando en paralelo y en lugares geográficos distintos.\n",
    "+ Una manera de aprender a **colaborar en tiempo real** en este tipo de proyectos interdisciplinarios.\n",
    "+ Da acceso a versiones históricas del proyecto. \n",
    "+ Es como un **seguro** contra fallas o pérdidas de datos. \n",
    "+ Si se comete un error, se puede volver a una versión anterior. \n",
    "+ Se puede reproducir y comprender errores en versiones anteriores, con **velocidad** y eficiencia. \n",
    "+ Se pueden deshacer ediciones específicas sin perder todo el trabajo.\n",
    "+ Para cualquier parte de un código, se puede determinar cuándo, por qué y quién editó los cambios."
   ]
  },
  {
   "cell_type": "markdown",
   "metadata": {},
   "source": [
    "### Qué es Git? \n",
    "\n",
    "+ **Git** es el corazón de **GitHub**.\n",
    "+ Convierte unas líneas de comandos en **la red social más grande para desarrolladores** de códigos y programas.\n",
    "+ Básicamente, Git es un programa, gratuito y de código abierto, de control de versiones lo que significa que todo el código base y el historial están disponibles para ser usados en cada computador de quienes colaboran.\n",
    "+ Git fue creado en 2005 por [Linus Torvalds](https://grupobcc.com/speakers/linus-torvalds/), el hombre que desarrolló entre otras muchas cosas el [kernel Linux](https://github.com/torvalds/linux).\n",
    "+ Git se puede instalar en Windows, macOS y Linux.\n",
    "+ Este está diseñado para manejar todo tipo de proyectos, desde proyectos pequeños a muy grandes.\n",
    "+ Se usa para ir siguiendo los cambios en los códigos y también para intercambiar archivos.\n",
    "+ Muchos proyectos de código abierto, por ejemplo, [Linux](https://www.linux.com/what-is-linux/) fueron posibles gracias a Git, donde cientos de profesionales se reunieron para trabajar colaborativamente en un sólo proyecto, pese a la diferencia sus ubicaciones geográficas.\n",
    "+ Ayuda a un equipo de investigadores o colaboradores a trabajar simultáneamente en el mismo proyecto y a gestionar los cambios en los códigos fuente compartiéndolos con el resto del equipo.\n",
    "+ Las ediciones parciales o temporales realizadas al código no interferirán con el trabajo de ningún otro integrante.\n"
   ]
  },
  {
   "cell_type": "markdown",
   "metadata": {},
   "source": [
    "### Directorio Git (Repositorio) \n",
    "\n",
    "+ Para colaborar con otros profesionales que participan del desarrollo, todos los archivos y bases de datos por ejemplo, audios, imágenes, textos, del proyecto se almacenan en un **Directorio Git** (también llamado repositorio).\n",
    "+ A este directorio puedan acceder todos los desarrolladores. \n",
    "+ De esta forma, los proyectos se **sincronizan**.\n",
    "+ Por ejemplo: [Bitbucket](https://bitbucket.org/), [GitLab](https://about.gitlab.com/) o [GitHub](https://github.com/), son directorios remotos Git en la nube. \n",
    "+ Ellos permiten **alojar repositorios** de manera rápida y cómoda, con una interfaz en forma de web y con todas las **medidas de seguridad** necesarias ya implementadas."
   ]
  },
  {
   "cell_type": "markdown",
   "metadata": {},
   "source": [
    "<!--- Inline HTML works too --->\n",
    "<p style=\"text-align:center\">\n",
    "    <a title=\"Servidor remoto y servidor local\"><img src=\"DirectorioGit.png\" width=\"300\" height=\"300\" alt=\"Tiny\"></a>\n",
    "    <strong>Figure 1. Una representación idealizada de los directorios: Git remoto y local. Ref: <a href=\"https://homes.cs.washington.edu/~mernst/advice/version-control.html\">https://homes.cs.washington.edu/~mernst/advice/version-control.html/</a><br></strong>"
   ]
  },
  {
   "cell_type": "markdown",
   "metadata": {},
   "source": [
    "### Formas de usar Git\n",
    "\n",
    "+ Podemos usar Git accediendo a través de **líneas de comandos por terminal** o bien, usando una aplicación **GUI** (*GUI, interfaz gráfica de usuario*) como alternativa de visualización.\n",
    "+ Por ejemplo, [para usuarios de Windows está Sourcetree](https://www.sourcetreeapp.com/), [para usuarios de macOS existe GitUp](https://gitup.co/), mientras que [para usuarios de Linux está Git Force](https://sites.google.com/site/gitforcetool/download).\n",
    "+ Ver en [las mejores GUI para Git de 2020 en todas las plataformas](https://www.hostinger.com/tutorials/best-git-gui-clients/)\n",
    "\n",
    "+ Para el control de versiones usamos un **repositorio** y una **copia de trabajo** donde realizamos nuestras ediciones.\n",
    "+ Por lo que debemos crear un repositorio en Git.\n",
    "+ Una vez que lo hemos creado vamos a poder enviar "
   ]
  },
  {
   "cell_type": "markdown",
   "metadata": {},
   "source": [
    "### Qué es GitHub?\n",
    "\n",
    "+ GitHub es una empresa con fines de lucro que ofrece un servicio de alojamiento de Directorios Git basado en la nube. \n",
    "+ Básicamente, GitHub hace fácil a las personas para que usen de Git, controlen las versiones de sus proyectos y facilita la colaboración entre equipos.\n",
    "+ Sin embargo, GitHub facilita también administrar otro tipo de proyectos, como escribir clases, o libros."
   ]
  },
  {
   "cell_type": "markdown",
   "metadata": {},
   "source": [
    "### Los tres estados de Git\n",
    "\n",
    "+ Git tiene tres **estados principales** en los que residen nuestros archivos: \n",
    "\n",
    "> + modificado o *modified*, \n",
    "> + preparado o *staged*, \n",
    "> + confirmado o *committed*,\n",
    "\n",
    "+ Modificado significa que modifiqué el archivo pero todavía no lo he confirmado a la base de datos. \n",
    "+ Preparado significa que marqué un archivo modificado en su versión actual para que vaya a una próxima confirmación.\n",
    "+ Confirmación significa que los datos se almacenaron de forma segura en nuestra base de datos local.\n"
   ]
  },
  {
   "cell_type": "markdown",
   "metadata": {},
   "source": [
    "### Secciones principales de un proyecto de Git\n",
    "\n",
    "+ De los estados de los archivos, pasamos a las secciones principales de un proyecto de Git.\n",
    "> + Directorio de Git o *Git directory*, \n",
    "> + Directorio de trabajo o *working directory*, \n",
    "> + Área de preparación o *staging area*. \n",
    "\n",
    "<!--- Inline HTML works too --->\n",
    "<p style=\"text-align:center\">\n",
    "    <a title=\"Secciones de un proyecto Git\"><img src=\"SeccionesGit2.png\" width=\"500\" height=\"500\" alt=\"Tiny\"></a>\n",
    "    <strong>Figure 2. Secciones de un proyecto Git. Ref: <a href=\"https://git-scm.com/book/en/v2/Getting-Started-What-is-Git%3F\">https://git-scm.com/book/en/v2/Getting-Started-What-is-Git%3F/</a><br></strong>"
   ]
  },
  {
   "cell_type": "markdown",
   "metadata": {},
   "source": [
    "### Ejemplo de uso de Git:\n",
    "\n",
    "+ **Verificar** si Git está instalado: \n",
    "> + Escribamos en el terminal el comando: \n",
    ">> + git --version\n",
    "+ **Descargar** Git:\n",
    "> + Según se requiera para [Windows](https://gitforwindows.org/), [macOS](https://git-scm.com/download/mac) o [Linux](https://git-scm.com/download/linux). \n",
    "+ **Creemos nuestro repositorio Git Local.** \n",
    "> + Para ésto, en nuestro computador crear una carpeta nueva para nuestro proyecto. Llamémosla: EjemploGit.\n",
    "> + Vamos ahora a la carpeta de nuestro ejemplo y agreguemos un repositorio de Git local al proyecto usando los siguientes comandos:\n",
    ">> + cd EjemploGit\n",
    "> > + git init\n",
    "> + El comando *git init* **agregó un repositorio de Git local** a nuestro ejemplo de proyecto.\n",
    "\n",
    "+ **Agreguemos un código pequeño ahora.**\n",
    "> + Creemos en la carpeta de ejemplo de proyecto, un archivo llamado demo.txt.\n",
    "> + Por ejemplo, en **Ubuntu**: el comando **cat** permite crear un archivo de texto desde terminal:\n",
    ">> + cat > demo.txt\n",
    "> + Después de presionar Enter, no regresará al *prompt* de terminal. \n",
    "> + Podemos escribir algunas líneas de texto directamente en el archivo demo.txt. \n",
    "> + Escribamos unas líneas de texto, por ejemplo: **Contenido inicial del archivo**. Luego, cuando haya terminado, presionemos Ctrl + D para salir del archivo y volver al prompt.\n",
    "> + Para verificar que demo.txt fue creado, usamos el comando *ls* para mostrar una lista de directorios y de archivos.\n",
    "\n",
    "+ **Staging** y **Commiting**.\n",
    "> + Ya sabemos que **committing** significa que el código (en este caso un texto) se agregará al **repositorio Git local**.\n",
    "> + Como se ve en la Figura 2, antes de hacer un **committing** al código, éste se encuentra en el área de **staging**.\n",
    "> + El área de **staging** está diseñada para mantener seguimiento de todos los archivos que serán **commited** o confirmados.\n",
    "> + Cualquier archivo que NO se agregue al área de **staging** no será **committed**.\n",
    "\n",
    "+ **Staging**\n",
    "> + Usamos el siguiente comando para hacer **staging** a nuestro archivo:\n",
    ">> + git add demo.txt\n",
    "> + Si tuviéramos múltiples archivos podemos usar:\n",
    ">> + git add archivo1 archivo2 archivo3\n",
    "> Si queremos agregar todos los archivos que están dentro de nuestra carpeta de proyecto al área de **staging** usamos el siguiente comando:\n",
    ">> + git add .\n",
    "\n",
    "+ **Committing**\n",
    "> + Utilizamos el siguiente comando para hacer **commit** al archivo:\n",
    ">> + git commit - \"Commit inicial de Ejemplo\"\n",
    ">> + \"Commit inicial de Ejemplo\" es un mensaje (puede ser cualquier mensaje relativo al cambio realizado) y que se sugiere hacer en cada **commit**. Este es relevante puesto que indica que se han hecho cambios en el código en este **commit** en particular. \n"
   ]
  },
  {
   "cell_type": "code",
   "execution_count": null,
   "metadata": {},
   "outputs": [],
   "source": []
  }
 ],
 "metadata": {
  "kernelspec": {
   "display_name": "acus220-env",
   "language": "python",
   "name": "acus220-env"
  },
  "language_info": {
   "codemirror_mode": {
    "name": "ipython",
    "version": 3
   },
   "file_extension": ".py",
   "mimetype": "text/x-python",
   "name": "python",
   "nbconvert_exporter": "python",
   "pygments_lexer": "ipython3",
   "version": "3.7.9"
  }
 },
 "nbformat": 4,
 "nbformat_minor": 4
}
