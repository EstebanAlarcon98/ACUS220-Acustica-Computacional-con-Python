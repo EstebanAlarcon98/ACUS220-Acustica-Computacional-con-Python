{
 "cells": [
  {
   "cell_type": "code",
   "execution_count": 3,
   "metadata": {},
   "outputs": [
    {
     "data": {
      "text/html": [
       "<!-- Mejorar visualización en proyector -->\n",
       "<style>\n",
       ".rendered_html {font-size: 1.2em; line-height: 150%;}\n",
       "div.prompt {min-width: 0ex; }\n",
       ".container {width:95% !important;}\n",
       "</style>\n"
      ],
      "text/plain": [
       "<IPython.core.display.HTML object>"
      ]
     },
     "metadata": {},
     "output_type": "display_data"
    }
   ],
   "source": [
    "%%HTML\n",
    "<!-- Mejorar visualización en proyector -->\n",
    "<style>\n",
    ".rendered_html {font-size: 1.2em; line-height: 150%;}\n",
    "div.prompt {min-width: 0ex; }\n",
    ".container {width:95% !important;}\n",
    "</style>"
   ]
  },
  {
   "cell_type": "markdown",
   "metadata": {},
   "source": [
    "<h1 style=\"text-align:center\">Semana 2. Clase 2: Entornos de trabajo y programas de control de versiones para un código</h1>\n",
    "<h3 style=\"text-align:center\">ACUS220: Acústica computacional con Python</h3>\n",
    "<p style=\"text-align:center\">Dr. Víctor Poblete <br>\n",
    "<a href=\"mailto:vpoblete@uach.cl\">vpoblete@uach.cl</a><br>\n",
    "<a href=\"https://github.com/vpobleteacustica/ACUS220-Acustica-Computacional-con-Python\">https://github.com/vpobleteacustica/ACUS220-Acustica-Computacional-con-Python</a><br> \n",
    "<p style=\"text-align:center\">Diego Espejo Alquinta - Ayudante <br>\n",
    "<a href=\"mailto:diego.espejo@alumnos.uach.cl\">diego.espejo@alumnos.uach.cl </a><br>\n",
    "<a href=\"http://www.acusticauach.cl\">www.acusticauach.cl</a><br> "
   ]
  },
  {
   "cell_type": "markdown",
   "metadata": {},
   "source": [
    "### 1. Introducción \n",
    "\n",
    "+ **Git** es un programa de control de versiones (*VCS, version control system*).\n",
    "+ Un programa de control de versiones sirve como repositorio (o repo) de códigos de programas, incluyendo todas las revisiones históricas.\n",
    "+ Además, un VCS registra cambios a los archivos, en los llamados *commits* en un archivo *log* de tal manera que se puede recuperar cualquier archivo en cualquier punto *commit*.\n",
    "\n",
    "#### Por qué es necesario usar un sistema de control de versiones?\n",
    "\n",
    "1. El repo sirve como un respaldo en caso que se cambie el código o se dañe o falle nuestro computador.\n",
    "2. Es un archivo *vivo* de cada una de las revisiones históricas. Nos permite volver a una versión específica, si surge la necesidad.\n",
    "3. Facilita la colaboración entre los miembros del equipo y sirve como una herramienta de gestión de proyectos.\n",
    "\n",
    "Git fue creado en 2005 por [Linus Torvalds](https://grupobcc.com/speakers/linus-torvalds/), para apoyar el desarrollo del [kernel Linux](https://github.com/torvalds/linux).\n",
    "\n",
    "El link principal de Git es https://git-scm.com/"
   ]
  },
  {
   "cell_type": "markdown",
   "metadata": {
    "heading_collapsed": true
   },
   "source": [
    "### 2.  Configurando Git\n",
    "\n",
    "+ Primero, **verificar** si Git está instalado: \n",
    "> + Escribamos en el terminal el comando: \n",
    ">> + git --version\n",
    "\n",
    "+ Si no lo está, entonces necesitaremos configurar Git en nuestra máquina local. Seguimos los siguientes pasos:\n",
    "> 1. Descargar & instalar:\n",
    ">> + Para Windows y macOS, bajar el instalador desde: https://git-scm.com/downloads y correr el programa de instalación.\n",
    ">> + Para Ubuntu, escribir el comando:\n",
    ">>> + sudo apt-get install git\n",
    "> 2. Personalizar Git:\n",
    ">> + Para trabajar con Git, primero debemos decirle quiénes somos. Debemos establecer nuestro nombre de usuario, correo electrónico y el comando git config:\n",
    ">> + Configuremos nuestro nombre de usuario y correo electrónico que se usarán para etiquetar nuestras confirmaciones o *commits*. Usamos terminal:\n",
    ">>> + git config --global user.name \"your-name\"\n",
    ">>> + git config --global user.email \"your-email@youremail.com\""
   ]
  },
  {
   "cell_type": "markdown",
   "metadata": {},
   "source": [
    "### Los tres estados de Git\n",
    "\n",
    "+ Git tiene tres **estados principales** en los que residen nuestros archivos: \n",
    "\n",
    "> + modificado o *modified*, \n",
    "> + preparado o *staged*, \n",
    "> + confirmado o *committed*,\n",
    "\n",
    "+ Modificado significa que modifiqué el archivo pero todavía no lo he confirmado a la base de datos. \n",
    "+ Preparado significa que marqué un archivo modificado en su versión actual para que vaya a una próxima confirmación.\n",
    "+ Confirmación significa que los datos se almacenaron de forma segura en nuestra base de datos local.\n",
    "\n",
    "### Secciones principales de un proyecto de Git\n",
    "\n",
    "+ De los estados de los archivos, pasamos a las secciones principales de un proyecto de Git.\n",
    "> + Directorio de Git o *Git directory*, \n",
    "> + Directorio de trabajo o *working directory*, \n",
    "> + Área de preparación o *staging area*. \n",
    "\n",
    "<!--- Inline HTML works too --->\n",
    "<p style=\"text-align:center\">\n",
    "    <a title=\"Secciones de un proyecto Git\"><img src=\"SeccionesGit2.png\" width=\"500\" height=\"500\" alt=\"Tiny\"></a>\n",
    "    <strong>Figure 2. Secciones de un proyecto Git. Ref: <a href=\"https://git-scm.com/book/en/v2/Getting-Started-What-is-Git%3F\">https://git-scm.com/book/en/v2/Getting-Started-What-is-Git%3F/</a><br></strong>"
   ]
  },
  {
   "cell_type": "markdown",
   "metadata": {},
   "source": [
    "###  3. Comandos básicos de Git\n",
    "\n",
    "> + Podemos usar Git accediendo a través de **líneas de comandos por terminal** o bien, usando una aplicación **GUI** (*GUI, interfaz gráfica de usuario*) como alternativa de visualización.\n",
    "> + Por ejemplo, para usuarios de Windows está [Sourcetree](https://www.sourcetreeapp.com/), para usuarios de macOS existe [GitUp](https://gitup.co/), mientras que para usuarios de Linux está [Git Force](https://sites.google.com/site/gitforcetool/download).\n",
    "> + Ver las mejores GUI para Git de 2020 en todas las plataformas en el siguiente link: https://www.hostinger.com/tutorials/best-git-gui-clients/\n",
    "\n",
    "+ Para declarar un comando:\n",
    "> + git $\\text{<comando>}$ $\\text{<argumento>}$\n",
    "+ Los comandos de uso más común son:\n",
    "> + init (para iniciar un proyecto gestionado por Git).\n",
    "> + add (para organizar ediciones y cambios de archivos).\n",
    "> + commit (para confirmar cambios)\n",
    "\n",
    "+ Para obtener ayuda de los comando Git puede ser:\n",
    "> + git help $\\text{<comando>}$, o bien,\n",
    "> + git $\\text{<comando>}$ --help"
   ]
  },
  {
   "cell_type": "markdown",
   "metadata": {},
   "source": [
    "### 3.1 Introducción a un repo local \n",
    "\n",
    "+ Existen 2 formas de iniciar un proyecto administrado por Git:\n",
    "> + Comenzar con nuestro propio proyecto.\n",
    "> + Clonar un proyecto existente desde un *host* o servidor GIT.\n",
    "+ Vamos a partir primero comenzando con nuestro propio proyecto.\n",
    "+ Más tarde, vamos a ver cómo clonar un proyecto desde un repositorio remoto."
   ]
  },
  {
   "cell_type": "markdown",
   "metadata": {},
   "source": [
    "### Ejercicio. \n",
    "\n",
    "#### Configurar el directorio de trabajo para un nuevo proyecto\n",
    "\n",
    "+ Comencemos un proyecto de programación en el directorio de trabajo llamado \"Hola_Git\", con un archivo fuente \"Hola_Git.py\" que solamente tenga una línea: print('Hola Git!'). \n",
    "+ Lo haremos de la siguiente manera:\n",
    "\n",
    "> + Necesitamos crear un nuevo repo para trabajar:\n",
    ">> + mkdir Hola_Git\n",
    ">> + cd Hola_Git\n",
    "> + Crearemos un repo Git para este proyecto. Usamos el comando: \n",
    ">> + git init \n",
    ">> + Inicializamos un repositorio Git vacío en ../Hola_Git/.git/\n",
    ">> + Se creó un subdirectorio oculto llamado **.git** en el directorio raíz de nuestro proyecto.\n",
    ">> + Esto se muestra usando los comandos:\n",
    ">>> + ls -a\n",
    ">> + vemos que este subdirectorio oculto .git contiene TODOS la información relacionada a Git.\n",
    "> + Una vez que tenemos nuestro repo, le preguntaremos a Git al respecto. El comando de Git que usaremos con más frecuencia es \n",
    ">> + git status\n",
    ">> + Esto nos está mostrando información: en qué rama nos encontramos, (hablaremos de las ramas más adelante) y que no tiene nada que confirmar. Esta última parte significa que no hay archivos en este directorio que Git no conozca. Eso es bueno, ya que acabamos de crear el directorio.\n",
    "\n",
    "#### Agregamos un archivo nuevo: \"Hola_Git.py\"\n",
    "\n",
    "+ Ahora, en nuestro repo creamos el archivo \"Hola_Git.py\" el cual Git no conoce. \n",
    "+ Con nuestro editor de texto (se recomienda Visual Studio Code), creemos este archivo que sólo tiene una declaración de impresión: print('Hola Git!').\n",
    "+ Si nuevamente corremos la línea:\n",
    "> + git status\n",
    "\n",
    "+ veremos un resultado diferente.\n",
    "\n",
    "+ Ahora Git está viendo el nuevo archivo y nos informa que \"Hola_Git.py\" no está rastreado.\n",
    "+ Esta es la manera en que Git nos informa que el archivo \"Hola_Git.py\" no es parte del repositorio Git y, por lo tanto, no está bajo control de versiones. \n",
    "+ Podemos solucionarlo agregando el archivo a Git. Para que eso suceda, usamos el comando, git add:\n",
    "> + git add Hola_Git.py\n",
    "+ Corremos de nuevo, git status:\n",
    "> git status\n",
    "+ Esto nos dice ahora que Git sí conoce Hola_Git.py y lo enumera en los cambios a ser confirmados. \n",
    "+ Como muestra la Figura 2, agregar el archivo a Git usando **add** lo que hizo fue moverlo al área de preparación o *staging* y significa que ya podemos enviarlo al repositorio.\n",
    "\n",
    "#### Confirmando o *committing* los cambios\n",
    "\n",
    "+ Cuando confirmamos los cambios, estamos pidiéndole a Git que haga una \"foto\" instantánea de este estado en el repositorio. \n",
    "\n",
    "+ Hagámoslo ahora usando el comando: git commit. \n",
    "\n",
    "+ Antes de correrlo, es importante agregar a *git commit* la opción: -m, que le dice a Git que use el mensaje de confirmación que sigue a continuación. \n",
    "\n",
    "+ En general, es aconsejable que los mensajes de confirmación reflejen qué ha cambiado en la confirmación:\n",
    "\n",
    "> + git commit -m \"Creamos archivo Hola_Git.py\"\n",
    "\n",
    "+ Nuevamente, corremos la línea: git status.\n",
    "+ Vemos que tenemos un directorio de trabajo limpio, lo que significa que todos los cambios están **committed** (confirmados) para Git."
   ]
  },
  {
   "cell_type": "code",
   "execution_count": null,
   "metadata": {},
   "outputs": [],
   "source": []
  }
 ],
 "metadata": {
  "kernelspec": {
   "display_name": "INFO147",
   "language": "python",
   "name": "info147"
  },
  "language_info": {
   "codemirror_mode": {
    "name": "ipython",
    "version": 3
   },
   "file_extension": ".py",
   "mimetype": "text/x-python",
   "name": "python",
   "nbconvert_exporter": "python",
   "pygments_lexer": "ipython3",
   "version": "3.6.10"
  },
  "toc": {
   "base_numbering": 1,
   "nav_menu": {},
   "number_sections": true,
   "sideBar": true,
   "skip_h1_title": false,
   "title_cell": "Table of Contents",
   "title_sidebar": "Contents",
   "toc_cell": false,
   "toc_position": {},
   "toc_section_display": true,
   "toc_window_display": false
  }
 },
 "nbformat": 4,
 "nbformat_minor": 4
}
