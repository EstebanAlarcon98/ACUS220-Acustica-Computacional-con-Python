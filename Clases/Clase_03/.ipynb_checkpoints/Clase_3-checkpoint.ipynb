{
 "cells": [
  {
   "cell_type": "code",
   "execution_count": 3,
   "metadata": {},
   "outputs": [
    {
     "data": {
      "text/html": [
       "<!-- Mejorar visualización en proyector -->\n",
       "<style>\n",
       ".rendered_html {font-size: 1.2em; line-height: 150%;}\n",
       "div.prompt {min-width: 0ex; }\n",
       ".container {width:95% !important;}\n",
       "</style>\n"
      ],
      "text/plain": [
       "<IPython.core.display.HTML object>"
      ]
     },
     "metadata": {},
     "output_type": "display_data"
    }
   ],
   "source": [
    "%%HTML\n",
    "<!-- Mejorar visualización en proyector -->\n",
    "<style>\n",
    ".rendered_html {font-size: 1.2em; line-height: 150%;}\n",
    "div.prompt {min-width: 0ex; }\n",
    ".container {width:95% !important;}\n",
    "</style>"
   ]
  },
  {
   "cell_type": "markdown",
   "metadata": {},
   "source": [
    "<h1 style=\"text-align:center\">Semana 3. Clase 3: Entornos virtuales</h1>\n",
    "<h3 style=\"text-align:center\">ACUS220: Acústica computacional con Python</h3>\n",
    "<p style=\"text-align:center\">Dr. Víctor Poblete <br>\n",
    "<a href=\"mailto:vpoblete@uach.cl\">vpoblete@uach.cl</a><br>\n",
    "<a href=\"https://github.com/vpobleteacustica/ACUS220-Acustica-Computacional-con-Python\">https://github.com/vpobleteacustica/ACUS220-Acustica-Computacional-con-Python</a><br> \n",
    "<p style=\"text-align:center\">Diego Espejo Alquinta - Ayudante <br>\n",
    "<a href=\"mailto:diego.espejo@alumnos.uach.cl\">diego.espejo@alumnos.uach.cl </a><br>\n",
    "<a href=\"http://www.acusticauach.cl\">www.acusticauach.cl</a><br> "
   ]
  },
  {
   "cell_type": "markdown",
   "metadata": {},
   "source": [
    "# Introduccion\n",
    "\n",
    "+ En Python suele ocurrir que ocuparemos librerias, paquetes y módulos que no están en la instalación estándar. \n",
    "+ Los proyectos a veces necesitan una versión específica de una librería, debido a que dicho proyecto requiere que un fallo en particular haya sido solucionado o bien la aplicación ha sido escrita usando una versión obsoleta de la interfaz de la librería.\n",
    "+ En consecuencia nuestra instalación de Python podría no cumplir con los requerimientos necesarios del proyecto.\n",
    "+ Si un proyecto A necesita la versión 1.0 de una libreria, paquete o módulo en particular y un proyecto B requiere la versión 2.0, entonces los requerimientos entrarán en conflicto e instalar la versión 1.0 ó 2.0 dejará uno de los proyectos sin funcionar.\n",
    "+ La solución a este problema es crear un entorno virtual. \n",
    "+ Un entorno virtual es un directorio que contiene una instalación de Python de una versión en particular, además de unas cuantas librerias, paquetes y modulos adicionales.\n",
    "+ Podemos tener para diferentes proyectos distintos entornos virtuales.\n",
    "+ El conflicto anterior se resuelve teniendo para el proyecto A un ambiente virtual propio con la versión 1.0 instalada mientras que, para el proyecto B un entorno virtual asociado, con la versión 2.0. \n",
    "+ Si el proyecto B requiere actualizar una librería, paquete o modulo a la versión 3.0, ésto no va a afectar el entorno virtual del proyecto A."
   ]
  },
  {
   "cell_type": "markdown",
   "metadata": {},
   "source": [
    "# Instalar un entorno virtual\n",
    "Hay dos posibilidades. Usar:\n",
    "1. `python virtualenv`\n",
    "\n",
    "> + python virtualenv necesita un intérprete de python (por ejemplo, 3.7.4) para correr.\n",
    "> + La instalacion se realiza mediante el siguiente comando: `python -m pip install --user virtualenv`\n",
    "> + Es importante observar que virtualenv trabaja con una única versión del intérprete. Esto significa que tanto proyecto A como proyecto B trabajarían con python 3.7.4.\n",
    "\n",
    "2. `conda env`\n",
    "> + Por otra parte, conda env requiere solamente del gestor de paquetes conda, el cual se obtiene a través de su [instalador minimo](https://docs.conda.io/en/latest/miniconda.html).\n",
    "> + Vale la pena mencionar que conda permite instalar diferentes interpretes y compiladores para cada entorno. Esto significa que el proyecto A podria tener python 3.7.4 mientras que, el proyecto B trabajaría con python 3.6.8. \n",
    "> + Una observacion importante de la instalación es que conda puede ser instalada ya sea a través de:\n",
    ">> + Miniconda: Esta distribucion nos otorga conda y python\n",
    "> + O bien,\n",
    ">> + Anaconda: Que otorga conda, python y muchas librerías, paquetes, módulos y herramientas preinstaladas.\n",
    "> + Conviene recomendar la distribucion miniconda, ya que nos permite ir instalando librerías, paquetes, módulos y herramientas gradualmente segun la necesidad.\n",
    "\n",
    "\n",
    "En este curso se utilizará la herramienta `conda env` para el uso de ambientes virtuales"
   ]
  },
  {
   "cell_type": "markdown",
   "metadata": {},
   "source": [
    "# Crear un ambiente virtual\n",
    "Para crear un ambiente virtual mediante conda, seguimos los siguientes pasos:\n",
    "1. Ejecutar en terminal `conda env list`, para visualizar los ambientes virtuales existentes\n",
    "1. Para crear: `conda create -n <nombre del ambiente> python=3.7.4` esto nos creará el entorno `<nombre del ambiente>` con intérprete de python en la versión 3.7.4.\n",
    "1. Para activar el entorno virtual recien creado ejecutamos `conda activate <nombre del ambiente>`\n",
    "1. Para instalar paquetes, primero podemos buscar el paquete deseado `conda search <paquete>` lo cual nos desplegará una lista de versiones disponibles con sus respectivos constructores (`build`).\n",
    "1. Luego, procedemos a instalar la version escogida mediante el siguiente comando `conda install <paquete>=<version>=<constructor>`. En el caso más general, se puede omitir el constructor y dejar que conda escoja la versión.\n",
    "1. Para chequear qué librerías o paquetes están presentes en el ambiente, basta ejecutar: `conda list` \n",
    "1. Para eliminar alguna libreria o paquete se ejecuta: `conda remove <paquete>`\n",
    "1. Para compartir un ambiente virtual podemos exportarlo como un archivo de texto, bajo el siguiente comando: `conda env export > <nombre del ambiente>.yml`\n",
    "1. Para salir del ambiente virtual, basta correr: `conda deactivate` \n",
    "1. Para respaldar el ambiente virtual podemos ejecutar: `conda create --name <nombre del ambiente - respaldo> --clone <nombre del ambiente>`\n",
    "1. Para eliminar entornos virtuales, se corre la siguiente linea `conda env remove -n <nombre del ambiente>`\n",
    "\n",
    "> + Verificar bajo qué comando queda funcionando python, mediante `python --version`. Este debiera señalarles la version presente en el ambiente virtual. De lo contrario, verificar con `python3 --version`.  \n",
    "> + Se recomienda trabajar en espacios de trabajos conocidos (por ejemplo, la carpeta del proyecto a desarrollar)\n",
    "> + Si no encuentra librerias, paquetes o modulos, mediante `conda search <paquete>` se recomienda buscar en la plataforma [Anaconda Cloud](https://anaconda.org/)\n"
   ]
  },
  {
   "cell_type": "markdown",
   "metadata": {},
   "source": [
    "### Ejercicio\n",
    "Crear mediante conda dos ambientes virtuales Proyecto A y Proyecto B. En proyecto A instalar python 3.3.0 y matplotlib en su version más baja. Mientras que en proyecto B instalar python 3.9.0 y que conda eliga la versión de matplotlib.\n",
    "\n",
    "Luego, descargar el archivo [psd_demo.py](https://matplotlib.org/gallery/lines_bars_and_markers/psd_demo.html#sphx-glr-gallery-lines-bars-and-markers-psd-demo-py) para ejecutarlo en cada ambiente, desde terminal mediante el comando `python psd_demo.py` o `python3 psd_demo.py` dependiendo del computador de cada uno.\n",
    "\n",
    "Comentar qué es lo que ha ocurrido y cuáles son las diferencias entre los proyectos.\n",
    "\n",
    "Finalmente, eliminar ambos ambientes virtuales y verificar su inexistencia.\n"
   ]
  },
  {
   "cell_type": "code",
   "execution_count": null,
   "metadata": {},
   "outputs": [],
   "source": []
  }
 ],
 "metadata": {
  "kernelspec": {
   "display_name": "Python 3",
   "language": "python",
   "name": "python3"
  },
  "language_info": {
   "codemirror_mode": {
    "name": "ipython",
    "version": 3
   },
   "file_extension": ".py",
   "mimetype": "text/x-python",
   "name": "python",
   "nbconvert_exporter": "python",
   "pygments_lexer": "ipython3",
   "version": "3.7.7"
  },
  "toc": {
   "base_numbering": 1,
   "nav_menu": {},
   "number_sections": true,
   "sideBar": true,
   "skip_h1_title": false,
   "title_cell": "Table of Contents",
   "title_sidebar": "Contents",
   "toc_cell": false,
   "toc_position": {},
   "toc_section_display": true,
   "toc_window_display": false
  }
 },
 "nbformat": 4,
 "nbformat_minor": 4
}
