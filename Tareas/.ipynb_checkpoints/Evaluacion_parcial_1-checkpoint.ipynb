{
 "cells": [
  {
   "cell_type": "code",
   "execution_count": 1,
   "metadata": {
    "ExecuteTime": {
     "end_time": "2020-11-02T14:56:09.794706Z",
     "start_time": "2020-11-02T14:56:09.771424Z"
    }
   },
   "outputs": [
    {
     "data": {
      "text/html": [
       "<!-- Mejorar visualización en proyector -->\n",
       "<style>\n",
       ".rendered_html {font-size: 1.2em; line-height: 150%;}\n",
       "div.prompt {min-width: 0ex; }\n",
       ".container {width:95% !important;}\n",
       "</style>\n"
      ],
      "text/plain": [
       "<IPython.core.display.HTML object>"
      ]
     },
     "metadata": {},
     "output_type": "display_data"
    }
   ],
   "source": [
    "%%HTML\n",
    "<!-- Mejorar visualización en proyector -->\n",
    "<style>\n",
    ".rendered_html {font-size: 1.2em; line-height: 150%;}\n",
    "div.prompt {min-width: 0ex; }\n",
    ".container {width:95% !important;}\n",
    "</style>"
   ]
  },
  {
   "cell_type": "markdown",
   "metadata": {},
   "source": [
    "<h1 style=\"text-align:center\">Evaluación Parcial 1.</h1>\n",
    "<h3 style=\"text-align:center\">ACUS220: Acústica computacional con Python</h3>\n",
    "<p style=\"text-align:center\">Dr. Víctor Poblete <br>\n",
    "<a href=\"mailto:vpoblete@uach.cl\">vpoblete@uach.cl</a><br>\n",
    "<a href=\"https://github.com/vpobleteacustica/ACUS220-Acustica-Computacional-con-Python\">https://github.com/vpobleteacustica/ACUS220-Acustica-Computacional-con-Python</a><br> \n",
    "<p style=\"text-align:center\">Diego Espejo Alquinta - Ayudante <br>\n",
    "<a href=\"mailto:diego.espejo@alumnos.uach.cl\">diego.espejo@alumnos.uach.cl </a><br>\n",
    "<a href=\"http://www.acusticauach.cl\">www.acusticauach.cl</a><br> "
   ]
  },
  {
   "cell_type": "markdown",
   "metadata": {},
   "source": [
    "# Indicaciones\n",
    "+ Fecha de entrega: Viernes 13 de Noviembre de 2020, 16:00 horas\n",
    "+ Máximo 2 participantes por grupo.\n",
    "+ Envio mediante repositorio privado en GitHub, con un README bien escrito, dando acceso como colaboradores a profesor (vpobleteacustica) y a ayudante (nigglea).\n",
    "+ Calidad de la presentacion:\n",
    "    + Entrega en cuadernillo Jupyter.\n",
    "    + Nombre de integrantes.\n",
    "    + Descripción del trabajo.\n",
    "    + Conclusiones.\n",
    "    + Uso de ecuaciones en $\\LaTeX$.\n",
    "    + Codigo ordenado.\n",
    "+ La eleccion de modular los ejercicios de cada tarea queda a eleccion de los estudiantes.\n",
    "+ En el caso de crear sus propias funciones estas deben ser claramente definidas.\n",
    "+ Dudas y consultas hacerlas a profesor o ayudante a través de Slack."
   ]
  },
  {
   "cell_type": "markdown",
   "metadata": {},
   "source": [
    "# Ejercicios"
   ]
  },
  {
   "attachments": {},
   "cell_type": "markdown",
   "metadata": {},
   "source": [
    "Considerar la tabla con valores medidos de nivel de presion sonora (dB) vs frecuencia (Hz) en tercio de octava.\n",
    "\\begin{align}\n",
    "\\\\\n",
    "\\end{align}\n",
    "\n",
    "|f|Hz|50|63|80|100|125|160|200|250|315|400|500|630|800|1000|1250|1600|2000|2500|3150|4000|5000|\n",
    "|-|-|-|-|-|-|-|-|-|-|-|-|-|-|-|-|-|-|-|-|-|-|-|\n",
    "|Lp| dB|96,8|99,0|89,7|93,8|95,9|80,2|78,8|67,9|76,5|72,6|79,8|80,6|76,0|73,8|80,2|78,6|83,0|82,8|73,3|73,7|58,1|"
   ]
  },
  {
   "cell_type": "markdown",
   "metadata": {},
   "source": [
    "## Ejercicio 1: Calculadora de decibeles\n",
    "+ Desarrollar un código que realice la suma, la resta y el promedio de nivel de presión sonora.\n",
    "+ Explique el desarrollo del código y sus ecuaciones involucradas.\n",
    "+ Tomar como referencia $p_{0} = 2\\times 10^{-5} \\left(\\frac{N}{m^2}\\right)$."
   ]
  },
  {
   "cell_type": "markdown",
   "metadata": {},
   "source": [
    "## Ejercicio 2: Conversión de tercio de octava a octava\n",
    "+ Desarrollar un código que realice la transformacion desde banda tercio de octava a banda de octava y vice versa.\n",
    "+ Explicar desarrollo del código y sus ecuaciones involucradas.\n",
    "+ Discutir diferencias entre entre resultados."
   ]
  },
  {
   "cell_type": "markdown",
   "metadata": {},
   "source": [
    "## Ejercicio 3: Filtro A\n",
    "+ Desarrollar un código que permita aplicar un filtro con ponderación A a los valores presentados en la tabla \n",
    "+ Graficar ambas curvas.\n",
    "+ Explicar el desarrollo del código y sus ecuaciones involucradas\n",
    "+ Discutir diferencias entre curvas."
   ]
  }
 ],
 "metadata": {
  "kernelspec": {
   "display_name": "ayudantia",
   "language": "python",
   "name": "ayudantia"
  },
  "language_info": {
   "codemirror_mode": {
    "name": "ipython",
    "version": 3
   },
   "file_extension": ".py",
   "mimetype": "text/x-python",
   "name": "python",
   "nbconvert_exporter": "python",
   "pygments_lexer": "ipython3",
   "version": "3.6.10"
  },
  "toc": {
   "base_numbering": 1,
   "nav_menu": {},
   "number_sections": true,
   "sideBar": true,
   "skip_h1_title": false,
   "title_cell": "Table of Contents",
   "title_sidebar": "Contents",
   "toc_cell": false,
   "toc_position": {},
   "toc_section_display": true,
   "toc_window_display": false
  }
 },
 "nbformat": 4,
 "nbformat_minor": 4
}
